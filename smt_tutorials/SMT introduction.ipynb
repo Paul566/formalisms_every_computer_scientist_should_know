{
 "cells": [
  {
   "cell_type": "code",
   "execution_count": 1,
   "id": "6e989658",
   "metadata": {},
   "outputs": [
    {
     "name": "stdout",
     "output_type": "stream",
     "text": [
      "Requirement already satisfied: z3-solver in /Users/krk/opt/anaconda3/lib/python3.9/site-packages (4.12.4.0)\n",
      "Note: you may need to restart the kernel to use updated packages.\n"
     ]
    }
   ],
   "source": [
    "pip install z3-solver"
   ]
  },
  {
   "cell_type": "code",
   "execution_count": 2,
   "id": "c64af6dc",
   "metadata": {},
   "outputs": [],
   "source": [
    "from z3 import *"
   ]
  },
  {
   "cell_type": "markdown",
   "id": "10a8982a",
   "metadata": {},
   "source": [
    "# Propositional Logic"
   ]
  },
  {
   "cell_type": "markdown",
   "id": "6dc8cac7",
   "metadata": {},
   "source": [
    "## Declare Variables"
   ]
  },
  {
   "cell_type": "code",
   "execution_count": 3,
   "id": "137a60f2",
   "metadata": {},
   "outputs": [],
   "source": [
    "p1 = Bool(\"p1\") # (declare-const p1 Bool)\n",
    "p2 = Bool(\"p2\") # (declare-const p2 Bool)\n",
    "p3 = Bool(\"p3\") # (declare-const p3 Bool)\n",
    "p4 = Bool(\"p4\") # (declare-const p4 Bool)"
   ]
  },
  {
   "cell_type": "code",
   "execution_count": 4,
   "id": "588963a5",
   "metadata": {},
   "outputs": [
    {
     "data": {
      "text/html": [
       "a b c"
      ],
      "text/plain": [
       "a b c"
      ]
     },
     "execution_count": 4,
     "metadata": {},
     "output_type": "execute_result"
    }
   ],
   "source": [
    "Bool(\"a b c\")"
   ]
  },
  {
   "cell_type": "markdown",
   "id": "7c9076be",
   "metadata": {},
   "source": [
    "## Connectives"
   ]
  },
  {
   "cell_type": "code",
   "execution_count": 5,
   "id": "c6e01b1a",
   "metadata": {},
   "outputs": [
    {
     "data": {
      "text/html": [
       "p1 &and; p2"
      ],
      "text/plain": [
       "And(p1, p2)"
      ]
     },
     "execution_count": 5,
     "metadata": {},
     "output_type": "execute_result"
    }
   ],
   "source": [
    "And(p1, p2) # (and p1 p2)"
   ]
  },
  {
   "cell_type": "code",
   "execution_count": 6,
   "id": "3c4d7e96",
   "metadata": {},
   "outputs": [
    {
     "data": {
      "text/html": [
       "p1 &and; p2 &and; p3 &and; p4 &and; True"
      ],
      "text/plain": [
       "And(p1, p2, p3, p4, True)"
      ]
     },
     "execution_count": 6,
     "metadata": {},
     "output_type": "execute_result"
    }
   ],
   "source": [
    "And(p1,p2,p3,p4, True) # (and p1 p2 p3 p4 true)"
   ]
  },
  {
   "cell_type": "code",
   "execution_count": 7,
   "id": "afd4d846",
   "metadata": {},
   "outputs": [
    {
     "data": {
      "text/html": [
       "p1 &and; p2 &and; p3 &and; p4 &and; False"
      ],
      "text/plain": [
       "And(p1, p2, p3, p4, False)"
      ]
     },
     "execution_count": 7,
     "metadata": {},
     "output_type": "execute_result"
    }
   ],
   "source": [
    "And(p1,p2,p3,p4, False) # (and p1 p2 p3 p4 false)"
   ]
  },
  {
   "cell_type": "code",
   "execution_count": 8,
   "id": "ab86df4b",
   "metadata": {},
   "outputs": [
    {
     "data": {
      "text/html": [
       "p1 &or; p2"
      ],
      "text/plain": [
       "Or(p1, p2)"
      ]
     },
     "execution_count": 8,
     "metadata": {},
     "output_type": "execute_result"
    }
   ],
   "source": [
    "Or(p1,p2) # (or p1 p2)"
   ]
  },
  {
   "cell_type": "code",
   "execution_count": 9,
   "id": "e3629c60",
   "metadata": {},
   "outputs": [
    {
     "data": {
      "text/html": [
       "p1 &rArr; p2"
      ],
      "text/plain": [
       "Implies(p1, p2)"
      ]
     },
     "execution_count": 9,
     "metadata": {},
     "output_type": "execute_result"
    }
   ],
   "source": [
    "Implies(p1,p2) # (=> p1 p2)"
   ]
  },
  {
   "cell_type": "code",
   "execution_count": 10,
   "id": "73424904",
   "metadata": {},
   "outputs": [
    {
     "data": {
      "text/html": [
       "If(p1, p2, p3)"
      ],
      "text/plain": [
       "If(p1, p2, p3)"
      ]
     },
     "execution_count": 10,
     "metadata": {},
     "output_type": "execute_result"
    }
   ],
   "source": [
    "If(p1,p2,p3) # (ite p1 p2 p3)"
   ]
  },
  {
   "cell_type": "code",
   "execution_count": 11,
   "id": "9139e932",
   "metadata": {},
   "outputs": [
    {
     "data": {
      "text/html": [
       "p1 = p2"
      ],
      "text/plain": [
       "p1 == p2"
      ]
     },
     "execution_count": 11,
     "metadata": {},
     "output_type": "execute_result"
    }
   ],
   "source": [
    "p1==p2 # (= p1 p2)"
   ]
  },
  {
   "cell_type": "markdown",
   "id": "f2622fa4",
   "metadata": {},
   "source": [
    "## Simplify"
   ]
  },
  {
   "cell_type": "code",
   "execution_count": 12,
   "id": "e64342ca",
   "metadata": {},
   "outputs": [
    {
     "data": {
      "text/html": [
       "(p1 &or; &not;p2) &and; (p1 &or; &not;p2)"
      ],
      "text/plain": [
       "And(Or(p1, Not(p2)), Or(p1, Not(p2)))"
      ]
     },
     "execution_count": 12,
     "metadata": {},
     "output_type": "execute_result"
    }
   ],
   "source": [
    "And(Or(p1,Not(p2)),Or(p1, Not(p2))) # (and (or p1 (not p2)) (or (not p1) (not p2)))"
   ]
  },
  {
   "cell_type": "code",
   "execution_count": 13,
   "id": "7d5576a4",
   "metadata": {},
   "outputs": [
    {
     "data": {
      "text/html": [
       "p1 &or; &not;p2"
      ],
      "text/plain": [
       "Or(p1, Not(p2))"
      ]
     },
     "execution_count": 13,
     "metadata": {},
     "output_type": "execute_result"
    }
   ],
   "source": [
    "simplify(And(Or(p1,Not(p2)), Or(p1, Not(p2)))) # (simplify (and (or p1 (not p2)) (or (not p1) (not p2))))"
   ]
  },
  {
   "cell_type": "code",
   "execution_count": 14,
   "id": "0441d35f",
   "metadata": {},
   "outputs": [
    {
     "data": {
      "text/html": [
       "p1 &and; (p1 &or; p2)"
      ],
      "text/plain": [
       "And(p1, Or(p1, p2))"
      ]
     },
     "execution_count": 14,
     "metadata": {},
     "output_type": "execute_result"
    }
   ],
   "source": [
    "simplify(And(p1,(Or(p1,p2)))) # (simplify (and p1 (or p1 p2)))"
   ]
  },
  {
   "cell_type": "code",
   "execution_count": 15,
   "id": "f6497544",
   "metadata": {},
   "outputs": [
    {
     "data": {
      "text/html": [
       "p2"
      ],
      "text/plain": [
       "p2"
      ]
     },
     "execution_count": 15,
     "metadata": {},
     "output_type": "execute_result"
    }
   ],
   "source": [
    "simplify(If(True, p2, p3)) # (ite true p2 p3)"
   ]
  },
  {
   "cell_type": "markdown",
   "id": "2507cd1e",
   "metadata": {},
   "source": [
    "## Solving"
   ]
  },
  {
   "cell_type": "code",
   "execution_count": 16,
   "id": "6418970c",
   "metadata": {},
   "outputs": [
    {
     "data": {
      "text/html": [
       "(p1 &or; p2) &and; (&not;p1 &or; &not;p2)"
      ],
      "text/plain": [
       "And(Or(p1, p2), Or(Not(p1), Not(p2)))"
      ]
     },
     "execution_count": 16,
     "metadata": {},
     "output_type": "execute_result"
    }
   ],
   "source": [
    "And(Or(p1,p2), Or(Not(p1),Not(p2))) # (and (or p1 p2) (or (not p1) (not p2)))"
   ]
  },
  {
   "cell_type": "code",
   "execution_count": 17,
   "id": "63adcb26",
   "metadata": {},
   "outputs": [
    {
     "name": "stdout",
     "output_type": "stream",
     "text": [
      "[p1 = True, p2 = False]\n"
     ]
    }
   ],
   "source": [
    "solve(And(Or(p1,p2), Or(Not(p1),Not(p2)))) "
   ]
  },
  {
   "cell_type": "code",
   "execution_count": 18,
   "id": "0eb0223c",
   "metadata": {},
   "outputs": [
    {
     "data": {
      "text/html": [
       "(&not;p1 &or; p2) &and; (p1 &or; &not;p2)"
      ],
      "text/plain": [
       "And(Or(Not(p1), p2), Or(p1, Not(p2)))"
      ]
     },
     "execution_count": 18,
     "metadata": {},
     "output_type": "execute_result"
    }
   ],
   "source": [
    "And(Or(Not(p1),p2), Or(p1,Not(p2))) # (and (or (not p1) p2) (or p1 (not p2)))"
   ]
  },
  {
   "cell_type": "code",
   "execution_count": 19,
   "id": "8cf44470",
   "metadata": {},
   "outputs": [
    {
     "name": "stdout",
     "output_type": "stream",
     "text": [
      "[p2 = False, p1 = False]\n"
     ]
    }
   ],
   "source": [
    "solve(And(Or(Not(p1),p2), Or(p1,Not(p2))))"
   ]
  },
  {
   "cell_type": "markdown",
   "id": "1e2381e9",
   "metadata": {},
   "source": [
    "### Alternative"
   ]
  },
  {
   "cell_type": "code",
   "execution_count": 20,
   "id": "32510aaf",
   "metadata": {},
   "outputs": [
    {
     "data": {
      "text/html": [
       "<b>sat</b>"
      ],
      "text/plain": [
       "sat"
      ]
     },
     "execution_count": 20,
     "metadata": {},
     "output_type": "execute_result"
    }
   ],
   "source": [
    "solver1 = Solver() \n",
    "solver1.add(And(Or(Not(p1),p2), Or(p1,Not(p2)))) # (assert (and (or p1 p2) (or (not p1) (not p2))))\n",
    "solver1.check()  # (check-sat)"
   ]
  },
  {
   "cell_type": "code",
   "execution_count": 21,
   "id": "4be4b64f",
   "metadata": {},
   "outputs": [
    {
     "data": {
      "text/html": [
       "<b>unsat</b>"
      ],
      "text/plain": [
       "unsat"
      ]
     },
     "execution_count": 21,
     "metadata": {},
     "output_type": "execute_result"
    }
   ],
   "source": [
    "solver1.add(And(Or(p1,p2), Or(Not(p1),Not(p2)))) # (assert (and (or (not p1) p2) (or p1 (not p2))))\n",
    "solver1.check() # (check-sat)"
   ]
  },
  {
   "cell_type": "markdown",
   "id": "88b9cff7",
   "metadata": {},
   "source": [
    "It checks for the conjunct of all the asserted statements."
   ]
  },
  {
   "cell_type": "code",
   "execution_count": 22,
   "id": "77752f09",
   "metadata": {},
   "outputs": [
    {
     "data": {
      "text/html": [
       "[(&not;p1 &or; p2) &and; (p1 &or; &not;p2), (p1 &or; p2) &and; (&not;p1 &or; &not;p2)]"
      ],
      "text/plain": [
       "[And(Or(Not(p1), p2), Or(p1, Not(p2))),\n",
       " And(Or(p1, p2), Or(Not(p1), Not(p2)))]"
      ]
     },
     "execution_count": 22,
     "metadata": {},
     "output_type": "execute_result"
    }
   ],
   "source": [
    "solver1"
   ]
  },
  {
   "cell_type": "markdown",
   "id": "f7eb7eb7",
   "metadata": {},
   "source": [
    "----\n",
    "*Fix 1:* Choose different variables"
   ]
  },
  {
   "cell_type": "code",
   "execution_count": 23,
   "id": "14ef3718",
   "metadata": {},
   "outputs": [
    {
     "data": {
      "text/html": [
       "<b>sat</b>"
      ],
      "text/plain": [
       "sat"
      ]
     },
     "execution_count": 23,
     "metadata": {},
     "output_type": "execute_result"
    }
   ],
   "source": [
    "solver1 = Solver() \n",
    "solver1.add(And(Or(Not(p1),p2), Or(p1,Not(p2)))) # (assert (and (or p1 p2) (or (not p1) (not p2))))\n",
    "solver1.check() # (check-sat)"
   ]
  },
  {
   "cell_type": "code",
   "execution_count": 24,
   "id": "1cf7becd",
   "metadata": {},
   "outputs": [
    {
     "data": {
      "text/html": [
       "<b>sat</b>"
      ],
      "text/plain": [
       "sat"
      ]
     },
     "execution_count": 24,
     "metadata": {},
     "output_type": "execute_result"
    }
   ],
   "source": [
    "solver1.add(And(Or(p3,p4), Or(Not(p3),Not(p4)))) # (assert (and (or (not p1) p2) (or p1 (not p2))))\n",
    "solver1.check() # (check-sat)"
   ]
  },
  {
   "cell_type": "code",
   "execution_count": null,
   "id": "c1db5bd5",
   "metadata": {},
   "outputs": [],
   "source": [
    "solver1"
   ]
  },
  {
   "cell_type": "code",
   "execution_count": null,
   "id": "6e3b46e2",
   "metadata": {},
   "outputs": [],
   "source": []
  },
  {
   "cell_type": "markdown",
   "id": "5e57e4bf",
   "metadata": {},
   "source": [
    "----\n",
    "*Fix 2:* Reset solver\n",
    "-- Warning resets everything!!"
   ]
  },
  {
   "cell_type": "code",
   "execution_count": 25,
   "id": "7e2fecd0",
   "metadata": {},
   "outputs": [
    {
     "data": {
      "text/html": [
       "<b>sat</b>"
      ],
      "text/plain": [
       "sat"
      ]
     },
     "execution_count": 25,
     "metadata": {},
     "output_type": "execute_result"
    }
   ],
   "source": [
    "solver1 = Solver() \n",
    "solver1.add(And(Or(Not(p1),p2), Or(p1,Not(p2)))) # (assert (and (or p1 p2) (or (not p1) (not p2))))\n",
    "solver1.check() # (check-sat)"
   ]
  },
  {
   "cell_type": "code",
   "execution_count": 26,
   "id": "d1dfd62f",
   "metadata": {},
   "outputs": [
    {
     "data": {
      "text/html": [
       "[(&not;p1 &or; p2) &and; (p1 &or; &not;p2)]"
      ],
      "text/plain": [
       "[And(Or(Not(p1), p2), Or(p1, Not(p2)))]"
      ]
     },
     "execution_count": 26,
     "metadata": {},
     "output_type": "execute_result"
    }
   ],
   "source": [
    "solver1"
   ]
  },
  {
   "cell_type": "code",
   "execution_count": 27,
   "id": "1caf1af1",
   "metadata": {},
   "outputs": [
    {
     "data": {
      "text/html": [
       "[]"
      ],
      "text/plain": [
       "[]"
      ]
     },
     "execution_count": 27,
     "metadata": {},
     "output_type": "execute_result"
    }
   ],
   "source": [
    "solver1.reset() # (reset)\n",
    "solver1"
   ]
  },
  {
   "cell_type": "code",
   "execution_count": 28,
   "id": "b492c251",
   "metadata": {},
   "outputs": [
    {
     "data": {
      "text/html": [
       "<b>sat</b>"
      ],
      "text/plain": [
       "sat"
      ]
     },
     "execution_count": 28,
     "metadata": {},
     "output_type": "execute_result"
    }
   ],
   "source": [
    "solver1.add(And(Or(p1,p2), Or(Not(p1),Not(p2)))) # (assert (and (or (not p1) p2) (or p1 (not p2))))\n",
    "solver1.check() # (check-sat)"
   ]
  },
  {
   "cell_type": "code",
   "execution_count": 29,
   "id": "e662e56f",
   "metadata": {},
   "outputs": [
    {
     "data": {
      "text/html": [
       "[(p1 &or; p2) &and; (&not;p1 &or; &not;p2)]"
      ],
      "text/plain": [
       "[And(Or(p1, p2), Or(Not(p1), Not(p2)))]"
      ]
     },
     "execution_count": 29,
     "metadata": {},
     "output_type": "execute_result"
    }
   ],
   "source": [
    "solver1"
   ]
  },
  {
   "cell_type": "markdown",
   "id": "b9c98c7c",
   "metadata": {},
   "source": [
    "----\n",
    "*Fix 3:*  Scopes"
   ]
  },
  {
   "cell_type": "code",
   "execution_count": 30,
   "id": "64f205e3",
   "metadata": {},
   "outputs": [
    {
     "data": {
      "text/html": [
       "[(&not;p1 &or; p2) &and; (p1 &or; &not;p2)]"
      ],
      "text/plain": [
       "[And(Or(Not(p1), p2), Or(p1, Not(p2)))]"
      ]
     },
     "execution_count": 30,
     "metadata": {},
     "output_type": "execute_result"
    }
   ],
   "source": [
    "solver1 = Solver() \n",
    "solver1.add(And(Or(Not(p1),p2), Or(p1,Not(p2)))) # (assert (and (or p1 p2) (or (not p1) (not p2))))\n",
    "solver1"
   ]
  },
  {
   "cell_type": "code",
   "execution_count": 31,
   "id": "d6b9e718",
   "metadata": {},
   "outputs": [
    {
     "data": {
      "text/html": [
       "[(&not;p1 &or; p2) &and; (p1 &or; &not;p2), (p1 &or; p2) &and; (&not;p1 &or; &not;p2)]"
      ],
      "text/plain": [
       "[And(Or(Not(p1), p2), Or(p1, Not(p2))),\n",
       " And(Or(p1, p2), Or(Not(p1), Not(p2)))]"
      ]
     },
     "execution_count": 31,
     "metadata": {},
     "output_type": "execute_result"
    }
   ],
   "source": [
    "solver1.push() # (push)\n",
    "solver1.add(And(Or(p1,p2), Or(Not(p1),Not(p2)))) # (assert (and (or (not p1) p2) (or p1 (not p2))))\n",
    "solver1"
   ]
  },
  {
   "cell_type": "code",
   "execution_count": 32,
   "id": "f20474a6",
   "metadata": {},
   "outputs": [
    {
     "data": {
      "text/html": [
       "<b>unsat</b>"
      ],
      "text/plain": [
       "unsat"
      ]
     },
     "execution_count": 32,
     "metadata": {},
     "output_type": "execute_result"
    }
   ],
   "source": [
    "solver1.check() # (check-sat)"
   ]
  },
  {
   "cell_type": "code",
   "execution_count": 33,
   "id": "027855a6",
   "metadata": {},
   "outputs": [
    {
     "data": {
      "text/html": [
       "[(&not;p1 &or; p2) &and; (p1 &or; &not;p2)]"
      ],
      "text/plain": [
       "[And(Or(Not(p1), p2), Or(p1, Not(p2)))]"
      ]
     },
     "execution_count": 33,
     "metadata": {},
     "output_type": "execute_result"
    }
   ],
   "source": [
    "solver1.pop() # (pop)\n",
    "solver1"
   ]
  },
  {
   "cell_type": "code",
   "execution_count": 34,
   "id": "5c619dc7",
   "metadata": {},
   "outputs": [
    {
     "data": {
      "text/html": [
       "<b>sat</b>"
      ],
      "text/plain": [
       "sat"
      ]
     },
     "execution_count": 34,
     "metadata": {},
     "output_type": "execute_result"
    }
   ],
   "source": [
    "solver1.check() # (check-sat)"
   ]
  },
  {
   "cell_type": "code",
   "execution_count": 35,
   "id": "e4ece9af",
   "metadata": {},
   "outputs": [
    {
     "ename": "Z3Exception",
     "evalue": "b'index out of bounds'",
     "output_type": "error",
     "traceback": [
      "\u001b[0;31m---------------------------------------------------------------------------\u001b[0m",
      "\u001b[0;31mZ3Exception\u001b[0m                               Traceback (most recent call last)",
      "\u001b[0;32m/var/folders/6p/1fp413rd6lj5pt9t3m1g09z40000gn/T/ipykernel_8283/4028556676.py\u001b[0m in \u001b[0;36m<module>\u001b[0;34m\u001b[0m\n\u001b[0;32m----> 1\u001b[0;31m \u001b[0msolver1\u001b[0m\u001b[0;34m.\u001b[0m\u001b[0mpop\u001b[0m\u001b[0;34m(\u001b[0m\u001b[0;34m)\u001b[0m\u001b[0;34m\u001b[0m\u001b[0;34m\u001b[0m\u001b[0m\n\u001b[0m",
      "\u001b[0;32m~/opt/anaconda3/lib/python3.9/site-packages/z3/z3.py\u001b[0m in \u001b[0;36mpop\u001b[0;34m(self, num)\u001b[0m\n\u001b[1;32m   7026\u001b[0m         \u001b[0;34m[\u001b[0m\u001b[0mx\u001b[0m \u001b[0;34m>\u001b[0m \u001b[0;36m0\u001b[0m\u001b[0;34m]\u001b[0m\u001b[0;34m\u001b[0m\u001b[0;34m\u001b[0m\u001b[0m\n\u001b[1;32m   7027\u001b[0m         \"\"\"\n\u001b[0;32m-> 7028\u001b[0;31m         \u001b[0mZ3_solver_pop\u001b[0m\u001b[0;34m(\u001b[0m\u001b[0mself\u001b[0m\u001b[0;34m.\u001b[0m\u001b[0mctx\u001b[0m\u001b[0;34m.\u001b[0m\u001b[0mref\u001b[0m\u001b[0;34m(\u001b[0m\u001b[0;34m)\u001b[0m\u001b[0;34m,\u001b[0m \u001b[0mself\u001b[0m\u001b[0;34m.\u001b[0m\u001b[0msolver\u001b[0m\u001b[0;34m,\u001b[0m \u001b[0mnum\u001b[0m\u001b[0;34m)\u001b[0m\u001b[0;34m\u001b[0m\u001b[0;34m\u001b[0m\u001b[0m\n\u001b[0m\u001b[1;32m   7029\u001b[0m \u001b[0;34m\u001b[0m\u001b[0m\n\u001b[1;32m   7030\u001b[0m     \u001b[0;32mdef\u001b[0m \u001b[0mnum_scopes\u001b[0m\u001b[0;34m(\u001b[0m\u001b[0mself\u001b[0m\u001b[0;34m)\u001b[0m\u001b[0;34m:\u001b[0m\u001b[0;34m\u001b[0m\u001b[0;34m\u001b[0m\u001b[0m\n",
      "\u001b[0;32m~/opt/anaconda3/lib/python3.9/site-packages/z3/z3core.py\u001b[0m in \u001b[0;36mZ3_solver_pop\u001b[0;34m(a0, a1, a2, _elems)\u001b[0m\n\u001b[1;32m   4111\u001b[0m \u001b[0;32mdef\u001b[0m \u001b[0mZ3_solver_pop\u001b[0m\u001b[0;34m(\u001b[0m\u001b[0ma0\u001b[0m\u001b[0;34m,\u001b[0m \u001b[0ma1\u001b[0m\u001b[0;34m,\u001b[0m \u001b[0ma2\u001b[0m\u001b[0;34m,\u001b[0m \u001b[0m_elems\u001b[0m\u001b[0;34m=\u001b[0m\u001b[0mElementaries\u001b[0m\u001b[0;34m(\u001b[0m\u001b[0m_lib\u001b[0m\u001b[0;34m.\u001b[0m\u001b[0mZ3_solver_pop\u001b[0m\u001b[0;34m)\u001b[0m\u001b[0;34m)\u001b[0m\u001b[0;34m:\u001b[0m\u001b[0;34m\u001b[0m\u001b[0;34m\u001b[0m\u001b[0m\n\u001b[1;32m   4112\u001b[0m   \u001b[0m_elems\u001b[0m\u001b[0;34m.\u001b[0m\u001b[0mf\u001b[0m\u001b[0;34m(\u001b[0m\u001b[0ma0\u001b[0m\u001b[0;34m,\u001b[0m \u001b[0ma1\u001b[0m\u001b[0;34m,\u001b[0m \u001b[0ma2\u001b[0m\u001b[0;34m)\u001b[0m\u001b[0;34m\u001b[0m\u001b[0;34m\u001b[0m\u001b[0m\n\u001b[0;32m-> 4113\u001b[0;31m   \u001b[0m_elems\u001b[0m\u001b[0;34m.\u001b[0m\u001b[0mCheck\u001b[0m\u001b[0;34m(\u001b[0m\u001b[0ma0\u001b[0m\u001b[0;34m)\u001b[0m\u001b[0;34m\u001b[0m\u001b[0;34m\u001b[0m\u001b[0m\n\u001b[0m\u001b[1;32m   4114\u001b[0m \u001b[0;34m\u001b[0m\u001b[0m\n\u001b[1;32m   4115\u001b[0m \u001b[0;32mdef\u001b[0m \u001b[0mZ3_solver_reset\u001b[0m\u001b[0;34m(\u001b[0m\u001b[0ma0\u001b[0m\u001b[0;34m,\u001b[0m \u001b[0ma1\u001b[0m\u001b[0;34m,\u001b[0m \u001b[0m_elems\u001b[0m\u001b[0;34m=\u001b[0m\u001b[0mElementaries\u001b[0m\u001b[0;34m(\u001b[0m\u001b[0m_lib\u001b[0m\u001b[0;34m.\u001b[0m\u001b[0mZ3_solver_reset\u001b[0m\u001b[0;34m)\u001b[0m\u001b[0;34m)\u001b[0m\u001b[0;34m:\u001b[0m\u001b[0;34m\u001b[0m\u001b[0;34m\u001b[0m\u001b[0m\n",
      "\u001b[0;32m~/opt/anaconda3/lib/python3.9/site-packages/z3/z3core.py\u001b[0m in \u001b[0;36mCheck\u001b[0;34m(self, ctx)\u001b[0m\n\u001b[1;32m   1552\u001b[0m     \u001b[0merr\u001b[0m \u001b[0;34m=\u001b[0m \u001b[0mself\u001b[0m\u001b[0;34m.\u001b[0m\u001b[0mget_error_code\u001b[0m\u001b[0;34m(\u001b[0m\u001b[0mctx\u001b[0m\u001b[0;34m)\u001b[0m\u001b[0;34m\u001b[0m\u001b[0;34m\u001b[0m\u001b[0m\n\u001b[1;32m   1553\u001b[0m     \u001b[0;32mif\u001b[0m \u001b[0merr\u001b[0m \u001b[0;34m!=\u001b[0m \u001b[0mself\u001b[0m\u001b[0;34m.\u001b[0m\u001b[0mOK\u001b[0m\u001b[0;34m:\u001b[0m\u001b[0;34m\u001b[0m\u001b[0;34m\u001b[0m\u001b[0m\n\u001b[0;32m-> 1554\u001b[0;31m         \u001b[0;32mraise\u001b[0m \u001b[0mself\u001b[0m\u001b[0;34m.\u001b[0m\u001b[0mException\u001b[0m\u001b[0;34m(\u001b[0m\u001b[0mself\u001b[0m\u001b[0;34m.\u001b[0m\u001b[0mget_error_message\u001b[0m\u001b[0;34m(\u001b[0m\u001b[0mctx\u001b[0m\u001b[0;34m,\u001b[0m \u001b[0merr\u001b[0m\u001b[0;34m)\u001b[0m\u001b[0;34m)\u001b[0m\u001b[0;34m\u001b[0m\u001b[0;34m\u001b[0m\u001b[0m\n\u001b[0m\u001b[1;32m   1555\u001b[0m \u001b[0;34m\u001b[0m\u001b[0m\n\u001b[1;32m   1556\u001b[0m \u001b[0;32mdef\u001b[0m \u001b[0mZ3_set_error_handler\u001b[0m\u001b[0;34m(\u001b[0m\u001b[0mctx\u001b[0m\u001b[0;34m,\u001b[0m \u001b[0mhndlr\u001b[0m\u001b[0;34m,\u001b[0m \u001b[0m_elems\u001b[0m\u001b[0;34m=\u001b[0m\u001b[0mElementaries\u001b[0m\u001b[0;34m(\u001b[0m\u001b[0m_lib\u001b[0m\u001b[0;34m.\u001b[0m\u001b[0mZ3_set_error_handler\u001b[0m\u001b[0;34m)\u001b[0m\u001b[0;34m)\u001b[0m\u001b[0;34m:\u001b[0m\u001b[0;34m\u001b[0m\u001b[0;34m\u001b[0m\u001b[0m\n",
      "\u001b[0;31mZ3Exception\u001b[0m: b'index out of bounds'"
     ]
    }
   ],
   "source": [
    "solver1.pop()"
   ]
  },
  {
   "cell_type": "code",
   "execution_count": null,
   "id": "5051a4b5",
   "metadata": {},
   "outputs": [],
   "source": [
    "solver1.push()"
   ]
  },
  {
   "cell_type": "code",
   "execution_count": null,
   "id": "8ec6b6e4",
   "metadata": {},
   "outputs": [],
   "source": [
    "solver1.pop()"
   ]
  },
  {
   "cell_type": "markdown",
   "id": "623dff6b",
   "metadata": {},
   "source": [
    "## Models"
   ]
  },
  {
   "cell_type": "markdown",
   "id": "b48dd1e4",
   "metadata": {},
   "source": [
    "### List all models"
   ]
  },
  {
   "cell_type": "code",
   "execution_count": 36,
   "id": "b8a36154",
   "metadata": {},
   "outputs": [],
   "source": [
    "def get_solutions(s):\n",
    "    result = s.check()\n",
    "    # While we still get solutions\n",
    "    while (result == sat):\n",
    "        m = s.model()\n",
    "        yield m\n",
    "        # Add new solution as a constraint\n",
    "        block = []\n",
    "        for var in m:\n",
    "            print(var() != m[var])\n",
    "            block.append(var() != m[var])\n",
    "        print(\"add: \", Or(block))\n",
    "        print()\n",
    "        s.add(Or(block))\n",
    "        # Look for new solution\n",
    "        result = s.check()"
   ]
  },
  {
   "cell_type": "code",
   "execution_count": 37,
   "id": "a3e71f20",
   "metadata": {},
   "outputs": [
    {
     "name": "stdout",
     "output_type": "stream",
     "text": [
      "Output:  [p2 = False, p1 = False]\n",
      "p2 != False\n",
      "p1 != False\n",
      "add:  Or(p2 != False, p1 != False)\n",
      "\n",
      "Output:  [p2 = True, p1 = True]\n",
      "p2 != True\n",
      "p1 != True\n",
      "add:  Or(p2 != True, p1 != True)\n",
      "\n"
     ]
    }
   ],
   "source": [
    "solver1 = Solver() \n",
    "solver1.add(And(Or(Not(p1),p2), Or(p1,Not(p2)))) # (assert (and (or p1 p2) (or (not p1) (not p2))))\n",
    "for sol in get_solutions(solver1):\n",
    "    print(\"Output: \",sol)"
   ]
  },
  {
   "cell_type": "code",
   "execution_count": null,
   "id": "e1f88727",
   "metadata": {},
   "outputs": [],
   "source": []
  },
  {
   "cell_type": "markdown",
   "id": "2ad1715c",
   "metadata": {},
   "source": [
    "### Restrict Models"
   ]
  },
  {
   "cell_type": "markdown",
   "id": "fe9bf46d",
   "metadata": {},
   "source": [
    "#### At Least\n",
    "At least X predicates have to be satisfied."
   ]
  },
  {
   "cell_type": "code",
   "execution_count": null,
   "id": "10e23448",
   "metadata": {},
   "outputs": [],
   "source": [
    "Or(And(p1, Not(p1)), p2, And(p3, Not(p3)), p4) # (or (and p1 (not p1)) p2 (and p3 (not p3)) p4)"
   ]
  },
  {
   "cell_type": "code",
   "execution_count": 38,
   "id": "08536d11",
   "metadata": {},
   "outputs": [
    {
     "data": {
      "text/plain": [
       "(And(p1, Not(p1)), p2, And(p3, Not(p3)), p4)"
      ]
     },
     "execution_count": 38,
     "metadata": {},
     "output_type": "execute_result"
    }
   ],
   "source": [
    "And(p1, Not(p1)), p2, And(p3, Not(p3)), p4 # (or (and p1 (not p1)) p2 (and p3 (not p3)) p4)"
   ]
  },
  {
   "cell_type": "code",
   "execution_count": 39,
   "id": "d7876b61",
   "metadata": {},
   "outputs": [
    {
     "data": {
      "text/html": [
       "[p2 = True, p4 = False]"
      ],
      "text/plain": [
       "[p2 = True, p4 = False]"
      ]
     },
     "execution_count": 39,
     "metadata": {},
     "output_type": "execute_result"
    }
   ],
   "source": [
    "solver1 = Solver() \n",
    "solver1.add(AtLeast( And(p1, Not(p1)), p2, And(p3, Not(p3)), p4,1  )) \n",
    "# (assert ((_ at-least 1) (and p1 (not p1)) p2 (and p3 (not p3)) p4))\n",
    "solver1.check() # (check-sat)\n",
    "solver1.model() # (get-model)"
   ]
  },
  {
   "cell_type": "code",
   "execution_count": 40,
   "id": "5b0ab087",
   "metadata": {},
   "outputs": [
    {
     "data": {
      "text/html": [
       "[p2 = True, p4 = True]"
      ],
      "text/plain": [
       "[p2 = True, p4 = True]"
      ]
     },
     "execution_count": 40,
     "metadata": {},
     "output_type": "execute_result"
    }
   ],
   "source": [
    "solver1 = Solver() \n",
    "solver1.add(AtLeast( And(p1, Not(p1)), p2, And(p3, Not(p3)), p4 , 2 )) \n",
    "# (assert ((_ at-least 2) (and p1 (not p1)) p2 (and p3 (not p3)) p4))\n",
    "solver1.check() # (check-sat)\n",
    "solver1.model() # (get-model)"
   ]
  },
  {
   "cell_type": "code",
   "execution_count": 41,
   "id": "420b8652",
   "metadata": {},
   "outputs": [
    {
     "data": {
      "text/html": [
       "<b>unsat</b>"
      ],
      "text/plain": [
       "unsat"
      ]
     },
     "execution_count": 41,
     "metadata": {},
     "output_type": "execute_result"
    }
   ],
   "source": [
    "solver1 = Solver() \n",
    "solver1.add(AtLeast(And(p1, Not(p1)), p2, And(p3, Not(p3)), p4, 3 )) \n",
    "# (assert ((_ at-least 3) (and p1 (not p1)) p2 (and p3 (not p3)) p4))\n",
    "solver1.check() # (check-sat)"
   ]
  },
  {
   "cell_type": "markdown",
   "id": "f5633192",
   "metadata": {},
   "source": [
    "#### At Most\n",
    "At most X predicates have to be satisfied."
   ]
  },
  {
   "cell_type": "code",
   "execution_count": 42,
   "id": "85c62ae6",
   "metadata": {},
   "outputs": [
    {
     "data": {
      "text/html": [
       "p1 &or; &not;p1 &or; p2 &or; p3 &or; &not;p3 &or; p4"
      ],
      "text/plain": [
       "Or(Or(p1, Not(p1)), p2, Or(p3, Not(p3)), p4)"
      ]
     },
     "execution_count": 42,
     "metadata": {},
     "output_type": "execute_result"
    }
   ],
   "source": [
    "Or(Or(p1, Not(p1)), p2, Or(p3, Not(p3)), p4)"
   ]
  },
  {
   "cell_type": "code",
   "execution_count": 43,
   "id": "a8876074",
   "metadata": {},
   "outputs": [
    {
     "data": {
      "text/html": [
       "<b>unsat</b>"
      ],
      "text/plain": [
       "unsat"
      ]
     },
     "execution_count": 43,
     "metadata": {},
     "output_type": "execute_result"
    }
   ],
   "source": [
    "solver1 = Solver() \n",
    "solver1.add(AtMost(Or(p1, Not(p1)), p2, Or(p3, Not(p3)), p4, 1 )) \n",
    "# (assert ((_ at-most 1) (or p1 (not p1)) p2 (or p3 (not p3)) p4))\n",
    "solver1.check() # (check-sat)"
   ]
  },
  {
   "cell_type": "code",
   "execution_count": 44,
   "id": "83b3d0dd",
   "metadata": {},
   "outputs": [
    {
     "data": {
      "text/html": [
       "[p2 = False, p4 = False]"
      ],
      "text/plain": [
       "[p2 = False, p4 = False]"
      ]
     },
     "execution_count": 44,
     "metadata": {},
     "output_type": "execute_result"
    }
   ],
   "source": [
    "solver1 = Solver() \n",
    "solver1.add(AtMost(Or(p1, Not(p1)), p2, Or(p3, Not(p3)), p4, 2 )) \n",
    "# (assert ((_ at-most 2) (or p1 (not p1)) p2 (or p3 (not p3)) p4))\n",
    "solver1.check() # (check-sat)\n",
    "solver1.model() # (get-model)"
   ]
  },
  {
   "cell_type": "code",
   "execution_count": 45,
   "id": "2dcc381b",
   "metadata": {},
   "outputs": [
    {
     "data": {
      "text/html": [
       "[p2 = False, p4 = False]"
      ],
      "text/plain": [
       "[p2 = False, p4 = False]"
      ]
     },
     "execution_count": 45,
     "metadata": {},
     "output_type": "execute_result"
    }
   ],
   "source": [
    "solver1 = Solver() \n",
    "solver1.add(AtMost(Or(p1, Not(p1)), p2, Or(p3, Not(p3)), p4, 3 )) \n",
    "# (assert ((_ at-most 3) (or p1 (not p1)) p2 (or p3 (not p3)) p4))\n",
    "solver1.check() # (check-sat)\n",
    "solver1.model() # (get-model)"
   ]
  },
  {
   "cell_type": "code",
   "execution_count": 46,
   "id": "f718430e",
   "metadata": {},
   "outputs": [
    {
     "data": {
      "text/html": [
       "p1 &or; p2 &or; p3 &or; p4"
      ],
      "text/plain": [
       "Or(p1, p2, p3, p4)"
      ]
     },
     "execution_count": 46,
     "metadata": {},
     "output_type": "execute_result"
    }
   ],
   "source": [
    "Or(p1, p2, p3, p4) # (or p1 p2 p3 p4)"
   ]
  },
  {
   "cell_type": "markdown",
   "id": "81e15af8",
   "metadata": {},
   "source": [
    "#### Quantitative Restriction\n",
    "The sum of satisfied predicates should equal some number, e.g., \n",
    "    \n",
    " $5*p_1+ 4*p_2 + 3*p_3 + 2*p_4 = 6$"
   ]
  },
  {
   "cell_type": "code",
   "execution_count": 49,
   "id": "8e7edeba",
   "metadata": {},
   "outputs": [
    {
     "data": {
      "text/html": [
       "[p3 = True, p1 = True, p2 = False, p4 = False]"
      ],
      "text/plain": [
       "[p3 = True, p1 = True, p2 = False, p4 = False]"
      ]
     },
     "execution_count": 49,
     "metadata": {},
     "output_type": "execute_result"
    }
   ],
   "source": [
    "solver1 = Solver() \n",
    "solver1.add(PbGe(((p1, 5), (p2, 4), (p3, 3), (p4, 2)),6))  # (assert ((_ pbge 6 5 4 3 2) p1 p2 p3 p4))\n",
    "solver1.check() # (check-sat)\n",
    "solver1.model() # (get-model)"
   ]
  },
  {
   "cell_type": "code",
   "execution_count": 50,
   "id": "e99d1952",
   "metadata": {},
   "outputs": [
    {
     "data": {
      "text/html": [
       "[p1 = True]"
      ],
      "text/plain": [
       "[p1 = True]"
      ]
     },
     "execution_count": 50,
     "metadata": {},
     "output_type": "execute_result"
    }
   ],
   "source": [
    "solver1 = Solver() \n",
    "solver1.add(PbGe(((p1, 5), (p2, 4), (p3, 3), (p4, 2)),5))  # (assert ((_ pbge 5 5 4 3 2) p1 p2 p3 p4))\n",
    "solver1.check() # (check-sat)\n",
    "solver1.model() # (get-model)"
   ]
  },
  {
   "cell_type": "code",
   "execution_count": 51,
   "id": "69f2d12c",
   "metadata": {},
   "outputs": [
    {
     "data": {
      "text/html": [
       "<b>unsat</b>"
      ],
      "text/plain": [
       "unsat"
      ]
     },
     "execution_count": 51,
     "metadata": {},
     "output_type": "execute_result"
    }
   ],
   "source": [
    "solver1 = Solver() \n",
    "solver1.add(PbGe(((p1, 5), (p2, 4), (p3, 3), (p4, 2)),15))  # (assert ((_ pbge 5 5 4 3 2) p1 p2 p3 p4))\n",
    "solver1.check() # (check-sat)"
   ]
  },
  {
   "cell_type": "code",
   "execution_count": 52,
   "id": "f95c5450",
   "metadata": {},
   "outputs": [
    {
     "data": {
      "text/html": [
       "[p1 = False, p2 = True, p3 = False, p4 = False]"
      ],
      "text/plain": [
       "[p1 = False, p2 = True, p3 = False, p4 = False]"
      ]
     },
     "execution_count": 52,
     "metadata": {},
     "output_type": "execute_result"
    }
   ],
   "source": [
    "solver1 = Solver() \n",
    "solver1.add(PbLe(((p1, 5), (p2, 4), (p3, 3), (p4, 2)),5))  # (assert ((_ pble 1 5 4 3 2) p1 p2 p3 p4))\n",
    "solver1.check() # (check-sat)\n",
    "solver1.model() # (get-model)"
   ]
  },
  {
   "cell_type": "code",
   "execution_count": 53,
   "id": "5eacf9c5",
   "metadata": {},
   "outputs": [
    {
     "data": {
      "text/html": [
       "[p3 = False, p1 = False, p2 = False, p4 = False]"
      ],
      "text/plain": [
       "[p3 = False, p1 = False, p2 = False, p4 = False]"
      ]
     },
     "execution_count": 53,
     "metadata": {},
     "output_type": "execute_result"
    }
   ],
   "source": [
    "solver1 = Solver() \n",
    "solver1.add(PbLe(((p1, 5), (p2, 4), (p3, 3), (p4, 2)),1))  # (assert ((_ pble 1 5 4 3 2) p1 p2 p3 p4))\n",
    "solver1.check() # (check-sat)\n",
    "solver1.model() # (get-model)"
   ]
  },
  {
   "cell_type": "code",
   "execution_count": 54,
   "id": "b649b5a2",
   "metadata": {},
   "outputs": [
    {
     "data": {
      "text/html": [
       "<b>unsat</b>"
      ],
      "text/plain": [
       "unsat"
      ]
     },
     "execution_count": 54,
     "metadata": {},
     "output_type": "execute_result"
    }
   ],
   "source": [
    "solver1 = Solver() \n",
    "solver1.add(PbEq(((p1, 5), (p2, 4), (p3, 3), (p4, 2)),13))  # (assert ((_ pbeq 1 5 4 3 2) p1 p2 p3 p4))\n",
    "solver1.check() # (check-sat)"
   ]
  },
  {
   "cell_type": "code",
   "execution_count": 55,
   "id": "40b59fc9",
   "metadata": {},
   "outputs": [
    {
     "data": {
      "text/html": [
       "[p3 = True, p1 = True, p2 = False, p4 = True]"
      ],
      "text/plain": [
       "[p3 = True, p1 = True, p2 = False, p4 = True]"
      ]
     },
     "execution_count": 55,
     "metadata": {},
     "output_type": "execute_result"
    }
   ],
   "source": [
    "solver1 = Solver() \n",
    "solver1.add(PbEq(((p1, 5), (p2, 4), (p3, 3), (p4, 2)), 10))  # (assert ((_ pbeq 1 5 4 3 2) p1 p2 p3 p4))\n",
    "solver1.check() # (check-sat)\n",
    "solver1.model() # (get-model)"
   ]
  },
  {
   "cell_type": "markdown",
   "id": "dbbf8687",
   "metadata": {},
   "source": [
    "## Declare Alias"
   ]
  },
  {
   "cell_type": "code",
   "execution_count": 57,
   "id": "be9a7289",
   "metadata": {},
   "outputs": [],
   "source": [
    "e1 = And(Or(p1,p2), Or(Not(p1),Not(p2))) # (define-fun e1 () Bool (and (or p1 p2) (or (not p1) (not p2))))"
   ]
  },
  {
   "cell_type": "code",
   "execution_count": 58,
   "id": "6c8a6406",
   "metadata": {},
   "outputs": [
    {
     "data": {
      "text/html": [
       "(p1 &or; p2) &and; (&not;p1 &or; &not;p2)"
      ],
      "text/plain": [
       "And(Or(p1, p2), Or(Not(p1), Not(p2)))"
      ]
     },
     "execution_count": 58,
     "metadata": {},
     "output_type": "execute_result"
    }
   ],
   "source": [
    "e1"
   ]
  },
  {
   "cell_type": "code",
   "execution_count": 59,
   "id": "cb05dfa8",
   "metadata": {},
   "outputs": [
    {
     "data": {
      "text/html": [
       "[p1 = True, p2 = False]"
      ],
      "text/plain": [
       "[p1 = True, p2 = False]"
      ]
     },
     "execution_count": 59,
     "metadata": {},
     "output_type": "execute_result"
    }
   ],
   "source": [
    "solver1 = Solver() \n",
    "solver1.add(e1)  # (assert e1)\n",
    "solver1.check() # (check-sat)\n",
    "solver1.model() # (get-model)"
   ]
  },
  {
   "cell_type": "markdown",
   "id": "a10e04f3",
   "metadata": {},
   "source": [
    "## Integers and More"
   ]
  },
  {
   "cell_type": "code",
   "execution_count": 60,
   "id": "bbbe3e8b",
   "metadata": {},
   "outputs": [],
   "source": [
    "x = Int('x') # (declare-const x Int)\n",
    "y = Int('y') # (declare-const y Int)\n",
    "z = Real('z') # (declare-const z Real)"
   ]
  },
  {
   "cell_type": "code",
   "execution_count": 61,
   "id": "d3103fc4",
   "metadata": {},
   "outputs": [
    {
     "data": {
      "text/plain": [
       "(x > 2, y < 10, x + 2*y == 7)"
      ]
     },
     "execution_count": 61,
     "metadata": {},
     "output_type": "execute_result"
    }
   ],
   "source": [
    "x > 2, y < 10, x + 2*y == 7 # (and (> x 2) (< y 10) (= 7 (+ x (* 2 y))))"
   ]
  },
  {
   "cell_type": "code",
   "execution_count": 62,
   "id": "656c24c8",
   "metadata": {},
   "outputs": [
    {
     "name": "stdout",
     "output_type": "stream",
     "text": [
      "[y = 0, x = 7]\n"
     ]
    }
   ],
   "source": [
    "solve(x > 2, y < 10, x + 2*y == 7)"
   ]
  },
  {
   "cell_type": "code",
   "execution_count": 63,
   "id": "80ce3430",
   "metadata": {},
   "outputs": [
    {
     "name": "stdout",
     "output_type": "stream",
     "text": [
      "[x = 7, y = 0, z = 0]\n"
     ]
    }
   ],
   "source": [
    "solve(x > 2, y < 10, z<Q(2,3), z > -Q(1,3), z+ x + 2*y == 7)"
   ]
  },
  {
   "cell_type": "code",
   "execution_count": 64,
   "id": "b650c20a",
   "metadata": {},
   "outputs": [
    {
     "name": "stdout",
     "output_type": "stream",
     "text": [
      "no solution\n"
     ]
    }
   ],
   "source": [
    "solve(x > 2, y < 10, z<Q(2,3), z > Q(1,3), z+ x + 2*y == 7)"
   ]
  },
  {
   "cell_type": "code",
   "execution_count": 65,
   "id": "2898bd69",
   "metadata": {},
   "outputs": [
    {
     "name": "stdout",
     "output_type": "stream",
     "text": [
      "[x = 7, y = 0, z = 1/2]\n"
     ]
    }
   ],
   "source": [
    "solve(x > 2, y < 10, z<Q(2,3), z > -Q(1,3), z+ x + 2*y == 7.5)"
   ]
  },
  {
   "cell_type": "code",
   "execution_count": 66,
   "id": "aedde5f7",
   "metadata": {},
   "outputs": [
    {
     "data": {
      "text/html": [
       "3 + 3&middot;x + y"
      ],
      "text/plain": [
       "3 + 3*x + y"
      ]
     },
     "execution_count": 66,
     "metadata": {},
     "output_type": "execute_result"
    }
   ],
   "source": [
    "simplify(x + y + 2*x + 3)"
   ]
  },
  {
   "cell_type": "code",
   "execution_count": 67,
   "id": "f6dffebb",
   "metadata": {},
   "outputs": [
    {
     "data": {
      "text/html": [
       "x + 1 &ge; 3 &and; x<sup>2</sup> + x<sup>2</sup> + y<sup>2</sup> + 2 &ge; 5"
      ],
      "text/plain": [
       "And(x + 1 >= 3, x**2 + x**2 + y**2 + 2 >= 5)"
      ]
     },
     "execution_count": 67,
     "metadata": {},
     "output_type": "execute_result"
    }
   ],
   "source": [
    "And(x + 1 >= 3, x**2 + x**2 + y**2 + 2 >= 5)"
   ]
  },
  {
   "cell_type": "code",
   "execution_count": 68,
   "id": "ba23dc85",
   "metadata": {},
   "outputs": [
    {
     "data": {
      "text/html": [
       "x &ge; 2 &and; 2&middot;x<sup>2</sup> + y<sup>2</sup> &ge; 3"
      ],
      "text/plain": [
       "And(x >= 2, 2*x**2 + y**2 >= 3)"
      ]
     },
     "execution_count": 68,
     "metadata": {},
     "output_type": "execute_result"
    }
   ],
   "source": [
    "simplify(And(x + 1 >= 3, x**2 + x**2 + y**2 + 2 >= 5))"
   ]
  },
  {
   "cell_type": "markdown",
   "id": "cffd9fb5",
   "metadata": {},
   "source": [
    "## Other Sorts"
   ]
  },
  {
   "cell_type": "code",
   "execution_count": 69,
   "id": "ad26278e",
   "metadata": {},
   "outputs": [],
   "source": [
    "b = BoolSort() \n",
    "s = StringSort() \n",
    "a = ArraySort(IntSort(), IntSort()) # (declare-const a Array Int Int)\n",
    "n = IntSort() # (declare-const n Int)\n",
    "x = RealSort() # (declare-const x Real)"
   ]
  },
  {
   "cell_type": "code",
   "execution_count": 70,
   "id": "5beb9f2b",
   "metadata": {},
   "outputs": [
    {
     "name": "stdout",
     "output_type": "stream",
     "text": [
      "Datatype(Bool, [])\n",
      "Datatype(String, [])\n",
      "Datatype(Array(Int, Int), [])\n",
      "Datatype(Int, [])\n",
      "Datatype(Real, [])\n"
     ]
    }
   ],
   "source": [
    "print(Datatype(b))\n",
    "print(Datatype(s))\n",
    "print(Datatype(a))\n",
    "print(Datatype(n))\n",
    "print(Datatype(x))"
   ]
  },
  {
   "cell_type": "code",
   "execution_count": 71,
   "id": "4bdf218a",
   "metadata": {},
   "outputs": [],
   "source": [
    "MySort = DeclareSort(\"MySort\") # (declare-sort MySort)"
   ]
  },
  {
   "cell_type": "code",
   "execution_count": 72,
   "id": "ceac196b",
   "metadata": {},
   "outputs": [
    {
     "data": {
      "text/html": [
       "Array(String, String)"
      ],
      "text/plain": [
       "Array(String, String)"
      ]
     },
     "execution_count": 72,
     "metadata": {},
     "output_type": "execute_result"
    }
   ],
   "source": [
    "ArraySort(StringSort(), StringSort())"
   ]
  },
  {
   "cell_type": "code",
   "execution_count": 73,
   "id": "7565f999",
   "metadata": {},
   "outputs": [],
   "source": [
    "bv1= Const(\"bv1\", b)"
   ]
  },
  {
   "cell_type": "code",
   "execution_count": 74,
   "id": "90bd6a2c",
   "metadata": {},
   "outputs": [],
   "source": [
    "bv2 = Bool(\"bv2\")"
   ]
  },
  {
   "cell_type": "code",
   "execution_count": 75,
   "id": "d8768a7f",
   "metadata": {},
   "outputs": [
    {
     "data": {
      "text/html": [
       "Bool"
      ],
      "text/plain": [
       "Bool"
      ]
     },
     "execution_count": 75,
     "metadata": {},
     "output_type": "execute_result"
    }
   ],
   "source": [
    "bv2.sort()"
   ]
  },
  {
   "cell_type": "code",
   "execution_count": 76,
   "id": "ddbead26",
   "metadata": {},
   "outputs": [
    {
     "name": "stdout",
     "output_type": "stream",
     "text": [
      "MySort\n",
      "Datatype(ms, [])\n"
     ]
    }
   ],
   "source": [
    "\n",
    "ms= Const(\"ms\", MySort)\n",
    "print(ms.sort())\n",
    "print(Datatype(ms))"
   ]
  },
  {
   "cell_type": "code",
   "execution_count": null,
   "id": "d1a9c54f",
   "metadata": {},
   "outputs": [],
   "source": []
  },
  {
   "cell_type": "code",
   "execution_count": null,
   "id": "cad85591",
   "metadata": {},
   "outputs": [],
   "source": []
  },
  {
   "cell_type": "code",
   "execution_count": null,
   "id": "5187b18c",
   "metadata": {},
   "outputs": [],
   "source": []
  },
  {
   "cell_type": "code",
   "execution_count": 77,
   "id": "725558f1",
   "metadata": {},
   "outputs": [
    {
     "data": {
      "text/plain": [
       "(pair, pair, [project0, project1, project2])"
      ]
     },
     "execution_count": 77,
     "metadata": {},
     "output_type": "execute_result"
    }
   ],
   "source": [
    "TupleSort(\"pair\", [IntSort(), BoolSort(),StringSort()])"
   ]
  },
  {
   "cell_type": "code",
   "execution_count": 78,
   "id": "07d24bff",
   "metadata": {},
   "outputs": [],
   "source": [
    "pair, pair_constructor, (first, second, third) = TupleSort(\"pair\", [IntSort(), BoolSort(),StringSort()])"
   ]
  },
  {
   "cell_type": "code",
   "execution_count": 79,
   "id": "d11a1d11",
   "metadata": {},
   "outputs": [],
   "source": [
    "p = Const('p', pair)"
   ]
  },
  {
   "cell_type": "code",
   "execution_count": 80,
   "id": "5ba04354",
   "metadata": {},
   "outputs": [
    {
     "name": "stdout",
     "output_type": "stream",
     "text": [
      "pair\n",
      "Datatype(p, [])\n"
     ]
    }
   ],
   "source": [
    "print(p.sort())\n",
    "print(Datatype(p))"
   ]
  },
  {
   "cell_type": "code",
   "execution_count": null,
   "id": "0575696a",
   "metadata": {},
   "outputs": [],
   "source": []
  },
  {
   "cell_type": "code",
   "execution_count": 81,
   "id": "31889000",
   "metadata": {},
   "outputs": [],
   "source": [
    "x,y,z = Ints(\"x y z\")"
   ]
  },
  {
   "cell_type": "markdown",
   "id": "f4013a32",
   "metadata": {},
   "source": [
    "## Uninterpreted Functions"
   ]
  },
  {
   "cell_type": "code",
   "execution_count": 85,
   "id": "e530df4b",
   "metadata": {},
   "outputs": [
    {
     "name": "stdout",
     "output_type": "stream",
     "text": [
      "[x = 0, y = 1, f = [1 -> 0, else -> 1]]\n"
     ]
    }
   ],
   "source": [
    "x = Int('x') # (declare-const x Int)\n",
    "y = Int('y') # (declare-const y Int)\n",
    "f = Function('f', IntSort(),  IntSort()) # (declare-fun f Int Int)\n",
    "solve(f(f(x)) == x, f(x) == y, x != y) # (and (= (f (f x)) x) (= (f x) y) (not (= x y)))"
   ]
  },
  {
   "cell_type": "code",
   "execution_count": 84,
   "id": "242b014e",
   "metadata": {},
   "outputs": [],
   "source": [
    "f = Function('f', IntSort(), BoolSort(),  IntSort()) # (declare-fun f Int Int)"
   ]
  },
  {
   "cell_type": "markdown",
   "id": "b73ed51c",
   "metadata": {},
   "source": [
    "## Quantifiers"
   ]
  },
  {
   "cell_type": "code",
   "execution_count": 86,
   "id": "ada24442",
   "metadata": {},
   "outputs": [],
   "source": [
    "A = DeclareSort(\"A\")  # (declare-sort A)\n",
    "x = Const(\"x\",A) # (declare-const x A)\n",
    "y = Const(\"y\",A) # (declare-const y A)\n",
    "z = Const(\"z\",A) # (declare-const z A)\n",
    "P = Function(\"P\", A, A, BoolSort())   # (declare-fun P (A,A) Bool)"
   ]
  },
  {
   "cell_type": "code",
   "execution_count": 87,
   "id": "b714954d",
   "metadata": {},
   "outputs": [
    {
     "data": {
      "text/html": [
       "&forall;x : P(x, x)"
      ],
      "text/plain": [
       "ForAll(x, P(x, x))"
      ]
     },
     "execution_count": 87,
     "metadata": {},
     "output_type": "execute_result"
    }
   ],
   "source": [
    "reflex = ForAll([x], P(x,x)) # (forall ((x A)) (P x x))\n",
    "reflex"
   ]
  },
  {
   "cell_type": "code",
   "execution_count": 88,
   "id": "13121d7a",
   "metadata": {},
   "outputs": [
    {
     "data": {
      "text/html": [
       "&forall;x, y : P(x, y) &and; P(y, x) &rArr; x = y"
      ],
      "text/plain": [
       "ForAll([x, y], Implies(And(P(x, y), P(y, x)), x == y))"
      ]
     },
     "execution_count": 88,
     "metadata": {},
     "output_type": "execute_result"
    }
   ],
   "source": [
    "antisym = ForAll([x,y], Implies(And(P(x,y), P(y,x)), x==y))  \n",
    "# (forall ((x A) (y A)) (=> (and (P x y) (P y x)) (= x y)))\n",
    "antisym"
   ]
  },
  {
   "cell_type": "code",
   "execution_count": 89,
   "id": "9b69bf36",
   "metadata": {},
   "outputs": [
    {
     "data": {
      "text/html": [
       "&forall;x, y, z : P(x, y) &and; P(y, z) &rArr; P(x, z)"
      ],
      "text/plain": [
       "ForAll([x, y, z], Implies(And(P(x, y), P(y, z)), P(x, z)))"
      ]
     },
     "execution_count": 89,
     "metadata": {},
     "output_type": "execute_result"
    }
   ],
   "source": [
    "trans = ForAll([x,y,z], Implies(And(P(x,y), P(y,z)), P(x,z)))\n",
    "# (forall ((x A) (y A) (z A)) (=> (and (P x y) (P y z)) (P x z)))\n",
    "trans"
   ]
  },
  {
   "cell_type": "code",
   "execution_count": 90,
   "id": "b9dd82ef",
   "metadata": {},
   "outputs": [
    {
     "data": {
      "text/html": [
       "[P = [else &rarr; True]]"
      ],
      "text/plain": [
       "[P = [else -> True]]"
      ]
     },
     "execution_count": 90,
     "metadata": {},
     "output_type": "execute_result"
    }
   ],
   "source": [
    "solver1 = Solver()\n",
    "solver1.add(reflex, antisym, trans)\n",
    "solver1.check()\n",
    "solver1.model()"
   ]
  },
  {
   "cell_type": "markdown",
   "id": "118d5556",
   "metadata": {},
   "source": [
    "##### Increase domain"
   ]
  },
  {
   "cell_type": "code",
   "execution_count": 91,
   "id": "513dbb21",
   "metadata": {},
   "outputs": [],
   "source": [
    "restr_domain = Exists([x,y], x!=y)\n",
    "# (exists ((x A) (y A)) (not (= x y)))"
   ]
  },
  {
   "cell_type": "code",
   "execution_count": 92,
   "id": "5f57ca00",
   "metadata": {},
   "outputs": [
    {
     "data": {
      "text/html": [
       "[P = [else &rarr; &not;(&not;(&#957;<sub>0</sub> = A!val!0) &and; &#957;<sub>1</sub> = A!val!0)]]"
      ],
      "text/plain": [
       "[P = [else ->\n",
       "      Not(And(Not(Var(0) == A!val!0), Var(1) == A!val!0))]]"
      ]
     },
     "execution_count": 92,
     "metadata": {},
     "output_type": "execute_result"
    }
   ],
   "source": [
    "solver1 = Solver()\n",
    "solver1.add(reflex, antisym, trans, restr_domain)\n",
    "solver1.check()\n",
    "solver1.model()"
   ]
  },
  {
   "cell_type": "markdown",
   "id": "45594dc8",
   "metadata": {},
   "source": [
    "##### Alternative"
   ]
  },
  {
   "cell_type": "code",
   "execution_count": 93,
   "id": "5f2d4f88",
   "metadata": {},
   "outputs": [
    {
     "data": {
      "text/html": [
       "[b = Domain!val!1,\n",
       " a = Domain!val!0,\n",
       " c = Domain!val!2,\n",
       " P = [else &rarr; &not;(&#957;<sub>0</sub> = A!val!0 &and; &not;(&#957;<sub>1</sub> = A!val!0))]]"
      ],
      "text/plain": [
       "[b = Domain!val!1,\n",
       " a = Domain!val!0,\n",
       " c = Domain!val!2,\n",
       " P = [else ->\n",
       "      Not(And(Var(0) == A!val!0, Not(Var(1) == A!val!0)))]]"
      ]
     },
     "execution_count": 93,
     "metadata": {},
     "output_type": "execute_result"
    }
   ],
   "source": [
    "Domain = DeclareSort('Domain')\n",
    "a, b, c = Consts('a b c', Domain)\n",
    "solver1 = Solver()\n",
    "solver1.add(Distinct(a, b, c)) ## Distinct !!\n",
    "solver1.add(reflex, antisym, trans, restr_domain)\n",
    "solver1.check()\n",
    "solver1.model()"
   ]
  },
  {
   "cell_type": "markdown",
   "id": "f6e202f6",
   "metadata": {},
   "source": [
    "###### Be aware of variable scope"
   ]
  },
  {
   "cell_type": "code",
   "execution_count": 94,
   "id": "86850b1d",
   "metadata": {},
   "outputs": [
    {
     "name": "stdout",
     "output_type": "stream",
     "text": [
      "no solution\n"
     ]
    }
   ],
   "source": [
    "x, y = Ints('x y')\n",
    "solve([y == 1, ForAll([x,y], x-y==x-1)])"
   ]
  },
  {
   "cell_type": "code",
   "execution_count": 95,
   "id": "48182988",
   "metadata": {},
   "outputs": [
    {
     "name": "stdout",
     "output_type": "stream",
     "text": [
      "[y = 1]\n"
     ]
    }
   ],
   "source": [
    "x, y, z = Ints('x y z')\n",
    "solve([y == 1, ForAll([x,z], x-y==x-1)])"
   ]
  },
  {
   "cell_type": "markdown",
   "id": "bb07c5f5",
   "metadata": {},
   "source": [
    "#### Example: Sub-type relation"
   ]
  },
  {
   "cell_type": "code",
   "execution_count": 97,
   "id": "e468c911",
   "metadata": {},
   "outputs": [
    {
     "ename": "Z3Exception",
     "evalue": "Sort mismatch",
     "output_type": "error",
     "traceback": [
      "\u001b[0;31m---------------------------------------------------------------------------\u001b[0m",
      "\u001b[0;31mZ3Exception\u001b[0m                               Traceback (most recent call last)",
      "\u001b[0;32m/var/folders/6p/1fp413rd6lj5pt9t3m1g09z40000gn/T/ipykernel_8283/1221869300.py\u001b[0m in \u001b[0;36m<module>\u001b[0;34m\u001b[0m\n\u001b[1;32m      6\u001b[0m \u001b[0;34m\u001b[0m\u001b[0m\n\u001b[1;32m      7\u001b[0m \u001b[0;31m# Reflexive\u001b[0m\u001b[0;34m\u001b[0m\u001b[0;34m\u001b[0m\u001b[0m\n\u001b[0;32m----> 8\u001b[0;31m \u001b[0msolver1\u001b[0m\u001b[0;34m.\u001b[0m\u001b[0madd\u001b[0m\u001b[0;34m(\u001b[0m\u001b[0mForAll\u001b[0m\u001b[0;34m(\u001b[0m\u001b[0;34m[\u001b[0m\u001b[0mx\u001b[0m\u001b[0;34m]\u001b[0m\u001b[0;34m,\u001b[0m \u001b[0msubtype\u001b[0m\u001b[0;34m(\u001b[0m\u001b[0mx\u001b[0m\u001b[0;34m,\u001b[0m\u001b[0mx\u001b[0m\u001b[0;34m)\u001b[0m\u001b[0;34m)\u001b[0m\u001b[0;34m)\u001b[0m \u001b[0;31m# (assert (forall ((x Type)) (subtype x x)))\u001b[0m\u001b[0;34m\u001b[0m\u001b[0;34m\u001b[0m\u001b[0m\n\u001b[0m\u001b[1;32m      9\u001b[0m \u001b[0;34m\u001b[0m\u001b[0m\n\u001b[1;32m     10\u001b[0m \u001b[0;31m# Transitive\u001b[0m\u001b[0;34m\u001b[0m\u001b[0;34m\u001b[0m\u001b[0m\n",
      "\u001b[0;32m~/opt/anaconda3/lib/python3.9/site-packages/z3/z3.py\u001b[0m in \u001b[0;36m__call__\u001b[0;34m(self, *args)\u001b[0m\n\u001b[1;32m    860\u001b[0m             \u001b[0;31m# self.domain(i).cast(args[i]) may create a new Z3 expression,\u001b[0m\u001b[0;34m\u001b[0m\u001b[0;34m\u001b[0m\u001b[0m\n\u001b[1;32m    861\u001b[0m             \u001b[0;31m# then we must save in 'saved' to prevent it from being garbage collected.\u001b[0m\u001b[0;34m\u001b[0m\u001b[0;34m\u001b[0m\u001b[0m\n\u001b[0;32m--> 862\u001b[0;31m             \u001b[0mtmp\u001b[0m \u001b[0;34m=\u001b[0m \u001b[0mself\u001b[0m\u001b[0;34m.\u001b[0m\u001b[0mdomain\u001b[0m\u001b[0;34m(\u001b[0m\u001b[0mi\u001b[0m\u001b[0;34m)\u001b[0m\u001b[0;34m.\u001b[0m\u001b[0mcast\u001b[0m\u001b[0;34m(\u001b[0m\u001b[0margs\u001b[0m\u001b[0;34m[\u001b[0m\u001b[0mi\u001b[0m\u001b[0;34m]\u001b[0m\u001b[0;34m)\u001b[0m\u001b[0;34m\u001b[0m\u001b[0;34m\u001b[0m\u001b[0m\n\u001b[0m\u001b[1;32m    863\u001b[0m             \u001b[0msaved\u001b[0m\u001b[0;34m.\u001b[0m\u001b[0mappend\u001b[0m\u001b[0;34m(\u001b[0m\u001b[0mtmp\u001b[0m\u001b[0;34m)\u001b[0m\u001b[0;34m\u001b[0m\u001b[0;34m\u001b[0m\u001b[0m\n\u001b[1;32m    864\u001b[0m             \u001b[0m_args\u001b[0m\u001b[0;34m[\u001b[0m\u001b[0mi\u001b[0m\u001b[0;34m]\u001b[0m \u001b[0;34m=\u001b[0m \u001b[0mtmp\u001b[0m\u001b[0;34m.\u001b[0m\u001b[0mas_ast\u001b[0m\u001b[0;34m(\u001b[0m\u001b[0;34m)\u001b[0m\u001b[0;34m\u001b[0m\u001b[0;34m\u001b[0m\u001b[0m\n",
      "\u001b[0;32m~/opt/anaconda3/lib/python3.9/site-packages/z3/z3.py\u001b[0m in \u001b[0;36mcast\u001b[0;34m(self, val)\u001b[0m\n\u001b[1;32m    603\u001b[0m         \u001b[0;32mif\u001b[0m \u001b[0mz3_debug\u001b[0m\u001b[0;34m(\u001b[0m\u001b[0;34m)\u001b[0m\u001b[0;34m:\u001b[0m\u001b[0;34m\u001b[0m\u001b[0;34m\u001b[0m\u001b[0m\n\u001b[1;32m    604\u001b[0m             \u001b[0m_z3_assert\u001b[0m\u001b[0;34m(\u001b[0m\u001b[0mis_expr\u001b[0m\u001b[0;34m(\u001b[0m\u001b[0mval\u001b[0m\u001b[0;34m)\u001b[0m\u001b[0;34m,\u001b[0m \u001b[0;34m\"Z3 expression expected\"\u001b[0m\u001b[0;34m)\u001b[0m\u001b[0;34m\u001b[0m\u001b[0;34m\u001b[0m\u001b[0m\n\u001b[0;32m--> 605\u001b[0;31m             \u001b[0m_z3_assert\u001b[0m\u001b[0;34m(\u001b[0m\u001b[0mself\u001b[0m\u001b[0;34m.\u001b[0m\u001b[0meq\u001b[0m\u001b[0;34m(\u001b[0m\u001b[0mval\u001b[0m\u001b[0;34m.\u001b[0m\u001b[0msort\u001b[0m\u001b[0;34m(\u001b[0m\u001b[0;34m)\u001b[0m\u001b[0;34m)\u001b[0m\u001b[0;34m,\u001b[0m \u001b[0;34m\"Sort mismatch\"\u001b[0m\u001b[0;34m)\u001b[0m\u001b[0;34m\u001b[0m\u001b[0;34m\u001b[0m\u001b[0m\n\u001b[0m\u001b[1;32m    606\u001b[0m         \u001b[0;32mreturn\u001b[0m \u001b[0mval\u001b[0m\u001b[0;34m\u001b[0m\u001b[0;34m\u001b[0m\u001b[0m\n\u001b[1;32m    607\u001b[0m \u001b[0;34m\u001b[0m\u001b[0m\n",
      "\u001b[0;32m~/opt/anaconda3/lib/python3.9/site-packages/z3/z3.py\u001b[0m in \u001b[0;36m_z3_assert\u001b[0;34m(cond, msg)\u001b[0m\n\u001b[1;32m    105\u001b[0m \u001b[0;32mdef\u001b[0m \u001b[0m_z3_assert\u001b[0m\u001b[0;34m(\u001b[0m\u001b[0mcond\u001b[0m\u001b[0;34m,\u001b[0m \u001b[0mmsg\u001b[0m\u001b[0;34m)\u001b[0m\u001b[0;34m:\u001b[0m\u001b[0;34m\u001b[0m\u001b[0;34m\u001b[0m\u001b[0m\n\u001b[1;32m    106\u001b[0m     \u001b[0;32mif\u001b[0m \u001b[0;32mnot\u001b[0m \u001b[0mcond\u001b[0m\u001b[0;34m:\u001b[0m\u001b[0;34m\u001b[0m\u001b[0;34m\u001b[0m\u001b[0m\n\u001b[0;32m--> 107\u001b[0;31m         \u001b[0;32mraise\u001b[0m \u001b[0mZ3Exception\u001b[0m\u001b[0;34m(\u001b[0m\u001b[0mmsg\u001b[0m\u001b[0;34m)\u001b[0m\u001b[0;34m\u001b[0m\u001b[0;34m\u001b[0m\u001b[0m\n\u001b[0m\u001b[1;32m    108\u001b[0m \u001b[0;34m\u001b[0m\u001b[0m\n\u001b[1;32m    109\u001b[0m \u001b[0;34m\u001b[0m\u001b[0m\n",
      "\u001b[0;31mZ3Exception\u001b[0m: Sort mismatch"
     ]
    }
   ],
   "source": [
    "solver1 = Solver()\n",
    "T = DeclareSort(\"Type\") # (declare-sort Type)\n",
    "subtype = Function(\"subtype\",T,T, BoolSort()) # (declare-fun subtype (Type Type) Bool)\n",
    "array_of = Function(\"array-of\", T, T) #(declare-fun array-of (Type) Type)\n",
    "root = Const(\"root\", T) #(declare-const root-type Type)\n",
    "\n",
    "# Reflexive\n",
    "solver1.add(ForAll([x], subtype(x,x))) # (assert (forall ((x Type)) (subtype x x)))\n",
    "\n",
    "# Transitive\n",
    "solver1.add(ForAll([x,y,z], And(subtype(x,y), subtype(y,z)) == subtype(x,z)))\n",
    "# (assert (forall ((x Type) (y Type) (z Type)) (= (and (subtype x y) (subtype y z)) (subtype x z)))) \n",
    "\n",
    "# Symmetric\n",
    "solver1.add(ForAll([x,y], And(subtype(x,y), subtype(y,x)) == (x==y)))\n",
    "#(assert (forall ((x Type) (y Type)) (= (and (subtype x y) (subtype y x)) (= x y))))\n",
    "\n",
    "# Tree\n",
    "solver1.add(ForAll([x,y,z], And(subtype(x,y), subtype(x,z)) == Or(subtype(y,z), subtype(z,y))))\n",
    "#(assert (forall ((x Type) (y Type) (z Type)) \n",
    "#     (= (and (subtype x y) (subtype x z))  (or (subtype y z) (subtype z y))))) \n",
    "\n",
    "# Root\n",
    "solver1.add(ForAll([x], subtype(x,root))) #(assert (forall ((x Type)) (subtype x root-type)))\n",
    "\n",
    "# Array\n",
    "solver1.add(ForAll([x,y], subtype(x,y)== subtype(array_of(x), array_of(y))))\n",
    "#(assert (forall ((x Type) (y Type)) (= (subtype x y) (subtype (array-of x) (array-of y)))))\n",
    "\n",
    "\n",
    "solver1.check() #(check-sat)\n",
    "solver1.model()"
   ]
  },
  {
   "cell_type": "markdown",
   "id": "84b6b617",
   "metadata": {},
   "source": [
    "## Lambdas"
   ]
  },
  {
   "cell_type": "code",
   "execution_count": 98,
   "id": "3172db14",
   "metadata": {},
   "outputs": [
    {
     "data": {
      "text/html": [
       "a + b&middot;c"
      ],
      "text/plain": [
       "a + b*c"
      ]
     },
     "execution_count": 98,
     "metadata": {},
     "output_type": "execute_result"
    }
   ],
   "source": [
    "a = Int('a') #(declare-const a Int)\n",
    "b = Int('b') #(declare-const b Int)\n",
    "c = Int('c') #(declare-const c Int)\n",
    "L = Lambda([a,b,c], a+ b*c)\n",
    "simplify(Select(L,a,b,c)) #(simplify (select (lambda ((x Int) (y Int) (z Int)) (+ x (* z y))) a b c))"
   ]
  },
  {
   "cell_type": "code",
   "execution_count": 99,
   "id": "72d9e473",
   "metadata": {},
   "outputs": [
    {
     "data": {
      "text/html": [
       "14"
      ],
      "text/plain": [
       "14"
      ]
     },
     "execution_count": 99,
     "metadata": {},
     "output_type": "execute_result"
    }
   ],
   "source": [
    "simplify(Select(L,2,3,4)) #(simplify (select (lambda ((x Int) (y Int) (z Int)) (+ x (* z y))) 2 3 4))"
   ]
  },
  {
   "cell_type": "code",
   "execution_count": null,
   "id": "582f2da6",
   "metadata": {},
   "outputs": [],
   "source": []
  },
  {
   "cell_type": "markdown",
   "id": "ef3e51a6",
   "metadata": {},
   "source": [
    "## Recursion"
   ]
  },
  {
   "cell_type": "code",
   "execution_count": 100,
   "id": "82a2c22f",
   "metadata": {},
   "outputs": [
    {
     "data": {
      "text/html": [
       "120"
      ],
      "text/plain": [
       "120"
      ]
     },
     "execution_count": 100,
     "metadata": {},
     "output_type": "execute_result"
    }
   ],
   "source": [
    "fac = RecFunction('fac', IntSort(), IntSort())\n",
    "n = Int('n')\n",
    "m = Int('m')\n",
    "RecAddDefinition(fac, n, If(n == 0, 1, n*fac(n-1)))\n",
    "simplify(fac(5))"
   ]
  },
  {
   "cell_type": "code",
   "execution_count": 102,
   "id": "ce6d6ea9",
   "metadata": {},
   "outputs": [
    {
     "data": {
      "text/html": [
       "fac(m)"
      ],
      "text/plain": [
       "fac(m)"
      ]
     },
     "execution_count": 102,
     "metadata": {},
     "output_type": "execute_result"
    }
   ],
   "source": [
    "fac(m)"
   ]
  },
  {
   "cell_type": "code",
   "execution_count": 103,
   "id": "960688f2",
   "metadata": {},
   "outputs": [
    {
     "data": {
      "text/html": [
       "[n = 0, fac = [0 &rarr; 1, else &rarr; &#957;<sub>0</sub>&middot;fac(&#957;<sub>0</sub> - 1)]]"
      ],
      "text/plain": [
       "[n = 0, fac = [0 -> 1, else -> Var(0)*fac(Var(0) - 1)]]"
      ]
     },
     "execution_count": 103,
     "metadata": {},
     "output_type": "execute_result"
    }
   ],
   "source": [
    "solver1 = Solver() \n",
    "solver1.add(fac(n) < 3)\n",
    "solver1.check()\n",
    "solver1.model()"
   ]
  },
  {
   "cell_type": "code",
   "execution_count": 104,
   "id": "3883f5f1",
   "metadata": {},
   "outputs": [
    {
     "data": {
      "text/html": [
       "[n = 2, fac = [0 &rarr; 1, else &rarr; &#957;<sub>0</sub>&middot;fac(&#957;<sub>0</sub> - 1)]]"
      ],
      "text/plain": [
       "[n = 2, fac = [0 -> 1, else -> Var(0)*fac(Var(0) - 1)]]"
      ]
     },
     "execution_count": 104,
     "metadata": {},
     "output_type": "execute_result"
    }
   ],
   "source": [
    "solver1 = Solver()\n",
    "solver1.add(And(fac(n) < 3, fac(n) > 1))\n",
    "solver1.check()\n",
    "solver1.model()"
   ]
  },
  {
   "cell_type": "code",
   "execution_count": null,
   "id": "f64d8406",
   "metadata": {},
   "outputs": [],
   "source": [
    "#(declare-const n Int)\n",
    "#(define-fun-rec fac ((n Int)) Int (if (= n 0) 1 (* n (fac (- n 1)))))\n",
    "#(assert (< (fac n) 3))\n",
    "#(check-sat)\n",
    "#(get-model)"
   ]
  },
  {
   "cell_type": "markdown",
   "id": "878b4a0d",
   "metadata": {},
   "source": [
    "## Python specific things"
   ]
  },
  {
   "cell_type": "code",
   "execution_count": 105,
   "id": "071f56a1",
   "metadata": {},
   "outputs": [
    {
     "name": "stdout",
     "output_type": "stream",
     "text": [
      "num args:  2\n",
      "children:  [x + y, 3]\n",
      "1st child: x + y\n",
      "2nd child: 3\n",
      "operator:  >=\n",
      "op name:   >=\n"
     ]
    }
   ],
   "source": [
    "x = Int('x')\n",
    "y = Int('y')\n",
    "n = x + y >= 3\n",
    "print (\"num args: \", n.num_args())\n",
    "print (\"children: \", n.children())\n",
    "print (\"1st child:\", n.arg(0))\n",
    "print (\"2nd child:\", n.arg(1))\n",
    "print (\"operator: \", n.decl())\n",
    "print (\"op name:  \", n.decl().name())"
   ]
  },
  {
   "cell_type": "code",
   "execution_count": null,
   "id": "81f0d82c",
   "metadata": {},
   "outputs": [],
   "source": [
    "x = Int('x')\n",
    "y = Int('y')\n",
    "n = And(x + y >= 3, x<2)\n",
    "print (\"num args: \", n.num_args())\n",
    "print (\"children: \", n.children())\n",
    "print (\"1st child:\", n.arg(0))\n",
    "print (\"2nd child:\", n.arg(1))\n",
    "print (\"operator: \", n.decl())\n",
    "print (\"op name:  \", n.decl().name())"
   ]
  },
  {
   "cell_type": "code",
   "execution_count": null,
   "id": "73de6877",
   "metadata": {},
   "outputs": [],
   "source": []
  }
 ],
 "metadata": {
  "kernelspec": {
   "display_name": "Python 3 (ipykernel)",
   "language": "python",
   "name": "python3"
  },
  "language_info": {
   "codemirror_mode": {
    "name": "ipython",
    "version": 3
   },
   "file_extension": ".py",
   "mimetype": "text/x-python",
   "name": "python",
   "nbconvert_exporter": "python",
   "pygments_lexer": "ipython3",
   "version": "3.9.13"
  }
 },
 "nbformat": 4,
 "nbformat_minor": 5
}
