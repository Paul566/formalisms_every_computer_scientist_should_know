{
 "cells": [
  {
   "cell_type": "code",
   "execution_count": 1,
   "metadata": {},
   "outputs": [],
   "source": [
    "from z3 import *"
   ]
  },
  {
   "cell_type": "markdown",
   "metadata": {},
   "source": [
    "## Equality with Uninterpreted Functions"
   ]
  },
  {
   "cell_type": "code",
   "execution_count": null,
   "metadata": {},
   "outputs": [],
   "source": [
    "S = RealSort()\n",
    "\n",
    "x = Const('x', S)\n",
    "f = Function('f', S, S)"
   ]
  },
  {
   "cell_type": "code",
   "execution_count": null,
   "metadata": {},
   "outputs": [],
   "source": [
    "solve(f(f(x)) == x, f(f(f(x))) == x, f(x) != x)"
   ]
  },
  {
   "cell_type": "markdown",
   "metadata": {},
   "source": [
    "Using the first equality $f(f(x)) = x$ we get $f(f(f(x))) = x \\mapsto f(x) = x$, but $f(x) \\neq x$."
   ]
  },
  {
   "cell_type": "code",
   "execution_count": null,
   "metadata": {},
   "outputs": [],
   "source": [
    "solve(f(f(x)) == x, f(f(f(x))) == x)"
   ]
  },
  {
   "cell_type": "code",
   "execution_count": null,
   "metadata": {},
   "outputs": [],
   "source": [
    "y = Const('y', S)\n",
    "g = Function('g', S, S, S)\n",
    "solve(g(x,y) == x, g(g(x,y),y) != x)"
   ]
  },
  {
   "cell_type": "markdown",
   "metadata": {},
   "source": [
    "Using the first equality $g(x,y) = x$ we get $g(g(x,y),y) \\mapsto g(x,y)= x$, but $g(x,y)\\neq x$."
   ]
  },
  {
   "cell_type": "code",
   "execution_count": null,
   "metadata": {},
   "outputs": [],
   "source": [
    "solve(g(y,x) == x, g(g(x,y),y) != x)"
   ]
  },
  {
   "cell_type": "markdown",
   "metadata": {},
   "source": [
    "Types are important"
   ]
  },
  {
   "cell_type": "code",
   "execution_count": null,
   "metadata": {},
   "outputs": [],
   "source": [
    "x = Int(\"x\")\n",
    "solve(x * x == 2)"
   ]
  },
  {
   "cell_type": "code",
   "execution_count": null,
   "metadata": {},
   "outputs": [],
   "source": [
    "x = Real(\"x\")\n",
    "solve(x * x == 2)"
   ]
  },
  {
   "cell_type": "code",
   "execution_count": null,
   "metadata": {},
   "outputs": [],
   "source": []
  },
  {
   "cell_type": "code",
   "execution_count": null,
   "metadata": {},
   "outputs": [],
   "source": []
  },
  {
   "cell_type": "markdown",
   "metadata": {},
   "source": [
    "## Arithmetic"
   ]
  },
  {
   "cell_type": "code",
   "execution_count": null,
   "metadata": {},
   "outputs": [],
   "source": [
    "a, b, c = Ints(\"a b c\")\n",
    "d, e = Reals(\"d e\")\n",
    "\n",
    "s = Solver()\n",
    "s.add(a < b + 2)\n",
    "s.add(a == 2 * c + 10)\n",
    "s.add(b + c == 1000)\n",
    "s.add(d == e)\n",
    "\n",
    "s.check()\n",
    "s.model()"
   ]
  },
  {
   "cell_type": "code",
   "execution_count": null,
   "metadata": {},
   "outputs": [],
   "source": [
    "s.reset()\n",
    "\n",
    "s.add(e < a + b + 2.0)\n",
    "s.add(d == c + 0.5)\n",
    "\n",
    "s.check()\n",
    "s.model()"
   ]
  },
  {
   "cell_type": "code",
   "execution_count": null,
   "metadata": {},
   "outputs": [],
   "source": [
    "s.reset()\n",
    "\n",
    "# s.add(a < b < c) not allowed\n",
    "s.add(a < b)\n",
    "s.add(b < c)\n",
    "\n",
    "s.check()\n",
    "s.model()"
   ]
  },
  {
   "cell_type": "code",
   "execution_count": null,
   "metadata": {},
   "outputs": [],
   "source": [
    "# how do reals behave under rounding?\n",
    "# sum of two reals xR, yR is below a\n",
    "# sum of round(xR), round(yR) is above a\n",
    "# rounded numbers are within unit distance to the reals\n",
    "\n",
    "s.reset()\n",
    "\n",
    "x, y, a = Ints(\"x, y, a\")\n",
    "xR, yR = Reals(\"xR, yR\")\n",
    "\n",
    "s.add(xR + yR < a)\n",
    "s.add(x + y > a)\n",
    "\n",
    "s.add(Or(x == xR, And(x < xR, xR < x + 1), And(x - 1 < xR, xR < x)))\n",
    "s.add(Or(y == yR, And(y < yR, yR < y + 1), And(y - 1 < yR, yR < y)))\n",
    "\n",
    "s.check()\n",
    "s.model()"
   ]
  },
  {
   "cell_type": "code",
   "execution_count": null,
   "metadata": {},
   "outputs": [],
   "source": [
    "# solving simple job-shop scheduling constraints using difference arithmetic\n",
    "# tasks have start time, duration, and constraints (specifying whether tasks should not overlap and ordering)\n",
    "# to specify the constraints, we compare two time points separated by a constant offset\n",
    "\n",
    "s.reset()\n",
    "\n",
    "t11, t12, t21, t22, t31, t32 = Ints(\"t11 t12 t21 t22 t31 t32\")\n",
    "\n",
    "s.add(And(t11 >= 0, t12 >= t11 + 2, t12 + 1 <= 8))\n",
    "s.add(And(t21 >= 0, t22 >= t21 + 3, t22 + 1 <= 8))\n",
    "s.add(And(t31 >= 0, t32 >= t31 + 2, t32 + 3 <= 8))\n",
    "s.add(Or(t11 >= t21 + 3, t21 >= t11 + 2))\n",
    "s.add(Or(t11 >= t31 + 2, t31 >= t11 + 2))\n",
    "s.add(Or(t21 >= t31 + 2, t31 >= t21 + 3))\n",
    "s.add(Or(t12 >= t22 + 1, t22 >= t12 + 1))\n",
    "s.add(Or(t12 >= t32 + 3, t32 >= t12 + 1))\n",
    "s.add(Or(t22 >= t32 + 3, t32 >= t22 + 1))\n",
    "\n",
    "s.check()\n",
    "s.model()"
   ]
  },
  {
   "cell_type": "code",
   "execution_count": null,
   "metadata": {},
   "outputs": [],
   "source": [
    "# nonlinear arithmetic: very expressive, undecidable\n",
    "# the solver does not always find solutions to nonlinear problems\n",
    "\n",
    "s.reset()\n",
    "\n",
    "x = Real(\"x\")\n",
    "s.add(2 ** x == 3)\n",
    "\n",
    "s.check()\n",
    "#s.model()"
   ]
  },
  {
   "cell_type": "code",
   "execution_count": null,
   "metadata": {},
   "outputs": [],
   "source": [
    "# yet it can show unsatisfiability for some nontrivial nonlinear problems\n",
    "\n",
    "s.reset()\n",
    "\n",
    "x, y, z = Reals(\"x, y, z\")\n",
    "s.add(x * x == x + 2.0)\n",
    "s.add(x * y == x)\n",
    "s.add((y - 1.0) * z / x == 1.0)\n",
    "\n",
    "s.check()\n",
    "#s.model()"
   ]
  },
  {
   "cell_type": "code",
   "execution_count": null,
   "metadata": {},
   "outputs": [],
   "source": [
    "# when presented only nonlinear polynomial constraints over reals, z3 uses a specialized complete solver\n",
    "\n",
    "s.reset()\n",
    "\n",
    "b, c = Reals(\"b, c\")\n",
    "s.add(b * b * b + b * c == 3.0)\n",
    "\n",
    "s.check()\n",
    "s.model()"
   ]
  },
  {
   "cell_type": "markdown",
   "metadata": {},
   "source": [
    "## Arrays"
   ]
  },
  {
   "cell_type": "code",
   "execution_count": null,
   "metadata": {},
   "outputs": [],
   "source": [
    "Z = IntSort()\n",
    "A = Array('A', Z, Z)\n",
    "x, y = Ints('x y')\n",
    "\n",
    "s = Solver()\n",
    "s.add(A[x] == x, Store(A, x, y) == A) \n",
    "# Sets x to be value of A at position x; Stores y at position x.\n",
    "s.check()\n",
    "s.model()"
   ]
  },
  {
   "cell_type": "markdown",
   "metadata": {},
   "source": [
    "$K(Int, 2)$ is the constant array containing $2$ at every entry; $ Store(K(Int, 2), 3, 3)$ indicates  that $3$ is added at position $3$. "
   ]
  },
  {
   "cell_type": "code",
   "execution_count": null,
   "metadata": {},
   "outputs": [],
   "source": [
    "s.reset()\n",
    "\n",
    "s.add(A[x] == x, Store(A, x, y) == A, x != y)\n",
    "\n",
    "s.check()\n",
    "#s.model()"
   ]
  },
  {
   "cell_type": "markdown",
   "metadata": {},
   "source": [
    "Because $x = A[x]$ and $A[x]=y$"
   ]
  },
  {
   "cell_type": "code",
   "execution_count": null,
   "metadata": {},
   "outputs": [],
   "source": []
  },
  {
   "cell_type": "code",
   "execution_count": null,
   "metadata": {},
   "outputs": [],
   "source": []
  },
  {
   "cell_type": "markdown",
   "metadata": {},
   "source": [
    "## Groups"
   ]
  },
  {
   "cell_type": "code",
   "execution_count": null,
   "metadata": {},
   "outputs": [],
   "source": [
    "G = DeclareSort(\"G\")\n",
    "e,a,b,c = Consts(\"e a b c\", G)\n",
    "times = Function('*', G,G, G)\n",
    "inv = Function('~', G,G)\n",
    "\n",
    "axioms = [\n",
    "  ForAll([a], times(inv(a),a) == e ), # inverse\n",
    "  ForAll([a], times(a,inv(a)) == e ),\n",
    "  ForAll([a], times(e,a) == a ), # identity\n",
    "  ForAll([a], times(a,e) == a ),\n",
    "  ForAll([a,b,c] , times(a,times(b,c)) == times(times(a,b),c)) # associativity\n",
    "]\n",
    "\n",
    "# A simple theorem\n",
    "s = Solver()\n",
    "s.add(axioms)\n",
    "theorem = inv(times(a,b)) == times(inv(b), inv(a))\n",
    "s.add(Not(theorem))\n",
    "s.check()"
   ]
  },
  {
   "cell_type": "code",
   "execution_count": null,
   "metadata": {},
   "outputs": [],
   "source": [
    "G = DeclareSort(\"G\")\n",
    "e,a,b,c = Consts(\"e a b c\", G)\n",
    "times = Function('*', G,G, G)\n",
    "inv = Function('~', G,G)\n",
    "\n",
    "axioms = [\n",
    "  ForAll([a], times(inv(a),a) == e ), # inverse\n",
    "  ForAll([a], times(a,inv(a)) == e ),\n",
    "  ForAll([a], times(e,a) == a ), # identity\n",
    "  ForAll([a], times(a,e) == a ),\n",
    "  ForAll([a,b,c] , times(a,times(b,c)) == times(times(a,b),c)) # associativity\n",
    "]\n",
    "\n",
    "# A simple theorem\n",
    "s = Solver()\n",
    "s.add(axioms)\n",
    "theorem = inv(times(a,b)) == times(inv(b), inv(a))\n",
    "s.add(theorem)\n",
    "s.check()"
   ]
  },
  {
   "cell_type": "markdown",
   "metadata": {},
   "source": [
    "$(a\\cdot b)^{-1}=a^{-1}\\cdot b^{-1}$"
   ]
  },
  {
   "cell_type": "markdown",
   "metadata": {},
   "source": [
    "## Induction"
   ]
  },
  {
   "cell_type": "code",
   "execution_count": 2,
   "metadata": {},
   "outputs": [
    {
     "data": {
      "text/html": [
       "<b>unknown</b>"
      ],
      "text/plain": [
       "unknown"
      ]
     },
     "execution_count": 2,
     "metadata": {},
     "output_type": "execute_result"
    }
   ],
   "source": [
    "n = Int(\"n\")\n",
    "Sumn = Function(\"sumn\", IntSort(), IntSort())\n",
    "s = Solver()\n",
    "\n",
    "# defining sum(n) = 1 + 2 + 3 + ... n\n",
    "s.add( Sumn(0) == 0)\n",
    "s.add(ForAll([n], Sumn(n+1) == n + 1 + Sumn(n))) \n",
    "\n",
    "s.add(Not(ForAll([n], Implies(n >= 0, 2 * Sumn(n) == n * (n + 1)))))\n",
    "s.check()"
   ]
  },
  {
   "cell_type": "code",
   "execution_count": null,
   "metadata": {},
   "outputs": [],
   "source": []
  },
  {
   "cell_type": "code",
   "execution_count": 3,
   "metadata": {},
   "outputs": [
    {
     "name": "stdout",
     "output_type": "stream",
     "text": [
      "proved\n"
     ]
    }
   ],
   "source": [
    "n = Int(\"n\")\n",
    "Sumn = Function(\"sumn\", IntSort(), IntSort())\n",
    "s = Solver()\n",
    "\n",
    "# defining sum(n) = 1 + 2 + 3 + ... n\n",
    "s.add( Sumn(0) == 0)\n",
    "s.add(ForAll([n], Sumn(n+1) == n + 1 + Sumn(n)))\n",
    "\n",
    "def prop_sumn(n):\n",
    "    return 2 * Sumn(n) == n * (n + 1)\n",
    "\n",
    "def induction(p):\n",
    "    n = Int(\"n\")\n",
    "    return Implies(And(  p(0),    ForAll([n],Implies(And(n >= 0, p(n)),p(n+1)))),\n",
    "                     # --------------------------------------------------------\n",
    "                       ForAll( [n] , Implies(n>=0, p(n))))\n",
    "\n",
    "s.add(induction(prop_sumn))\n",
    "\n",
    "s.add( Not(ForAll([n], Implies( n >= 0, prop_sumn(n)))))\n",
    "if s.check() == unsat:\n",
    "    print(\"proved\")"
   ]
  },
  {
   "cell_type": "markdown",
   "metadata": {},
   "source": [
    "$(p(0) \\land \\forall n . (n>=0 \\land p(n)) \\implies p(n+1))) \\implies \\forall n. (n>=0 \\implies p(n))$"
   ]
  },
  {
   "cell_type": "markdown",
   "metadata": {},
   "source": [
    "## An Application: Install Problem\n",
    "https://ericpony.github.io/z3py-tutorial/guide-examples.htm"
   ]
  },
  {
   "cell_type": "markdown",
   "metadata": {},
   "source": [
    "The install problem consists of determining whether a new set of packages can be installed in a system. This application is based on the article OPIUM: Optimal Package Install/Uninstall Manager. Many packages depend on other packages to provide some functionality. Each distribution contains a meta-data file that explicates the requirements of each package of the distribution. The meta-data contains details like the name, version, etc. More importantly, it contains depends and conflicts clauses that stipulate which other packages should be on the system. The depends clauses stipulate which other packages must be present. The conflicts clauses stipulate which other packages must not be present."
   ]
  },
  {
   "cell_type": "code",
   "execution_count": 4,
   "metadata": {},
   "outputs": [
    {
     "name": "stdout",
     "output_type": "stream",
     "text": [
      "Check 1\n",
      "[z, b, d, f, c, a]\n",
      "Check 2\n",
      "invalid installation profile\n"
     ]
    }
   ],
   "source": [
    "def DependsOn(pack, deps):\n",
    "    if is_expr(deps):\n",
    "        return Implies(pack, deps)\n",
    "    else:\n",
    "        return And([ Implies(pack, dep) for dep in deps ])\n",
    "\n",
    "def Conflict(*packs):\n",
    "    return Or([ Not(pack) for pack in packs ])\n",
    "\n",
    "a, b, c, d, e, f, g, z = Bools('a b c d e f g z')\n",
    "\n",
    "def install_check(*problem):\n",
    "    s = Solver()\n",
    "    s.add(*problem)\n",
    "    if s.check() == sat:\n",
    "        m = s.model()\n",
    "        r = []\n",
    "        for x in m:\n",
    "            if is_true(m[x]):\n",
    "                # x is a Z3 declaration\n",
    "                # x() returns the Z3 expression\n",
    "                # x.name() returns a string\n",
    "                r.append(x())\n",
    "        print (r)\n",
    "    else:\n",
    "        print (\"invalid installation profile\")\n",
    "\n",
    "print (\"Check 1\")\n",
    "install_check(DependsOn(a, [b, c, z]),\n",
    "              DependsOn(b, d),\n",
    "              DependsOn(c, [Or(d, e), Or(f, g)]),\n",
    "              Conflict(d, e),\n",
    "              Conflict(d, g),\n",
    "              a, z)\n",
    "\n",
    "print (\"Check 2\")\n",
    "install_check(DependsOn(a, [b, c, z]),\n",
    "              DependsOn(b, d),\n",
    "              DependsOn(c, [Or(d, e), Or(f, g)]),\n",
    "              Conflict(d, e),\n",
    "              Conflict(d, g),\n",
    "              a, z, g)\n"
   ]
  },
  {
   "cell_type": "code",
   "execution_count": null,
   "metadata": {},
   "outputs": [],
   "source": []
  },
  {
   "cell_type": "code",
   "execution_count": null,
   "metadata": {},
   "outputs": [],
   "source": []
  },
  {
   "cell_type": "code",
   "execution_count": null,
   "metadata": {},
   "outputs": [],
   "source": []
  },
  {
   "cell_type": "code",
   "execution_count": null,
   "metadata": {},
   "outputs": [],
   "source": []
  },
  {
   "cell_type": "code",
   "execution_count": null,
   "metadata": {},
   "outputs": [],
   "source": []
  },
  {
   "cell_type": "code",
   "execution_count": null,
   "metadata": {},
   "outputs": [],
   "source": []
  },
  {
   "cell_type": "code",
   "execution_count": null,
   "metadata": {},
   "outputs": [],
   "source": []
  },
  {
   "cell_type": "code",
   "execution_count": null,
   "metadata": {},
   "outputs": [],
   "source": []
  },
  {
   "cell_type": "code",
   "execution_count": null,
   "metadata": {},
   "outputs": [],
   "source": []
  },
  {
   "cell_type": "code",
   "execution_count": null,
   "metadata": {},
   "outputs": [],
   "source": []
  },
  {
   "cell_type": "code",
   "execution_count": null,
   "metadata": {},
   "outputs": [],
   "source": []
  },
  {
   "cell_type": "code",
   "execution_count": null,
   "metadata": {},
   "outputs": [],
   "source": []
  },
  {
   "cell_type": "code",
   "execution_count": null,
   "metadata": {},
   "outputs": [],
   "source": []
  },
  {
   "cell_type": "code",
   "execution_count": null,
   "metadata": {},
   "outputs": [],
   "source": []
  },
  {
   "cell_type": "code",
   "execution_count": null,
   "metadata": {},
   "outputs": [],
   "source": []
  },
  {
   "cell_type": "code",
   "execution_count": null,
   "metadata": {},
   "outputs": [],
   "source": []
  },
  {
   "cell_type": "code",
   "execution_count": null,
   "metadata": {},
   "outputs": [],
   "source": []
  },
  {
   "cell_type": "code",
   "execution_count": null,
   "metadata": {},
   "outputs": [],
   "source": []
  },
  {
   "cell_type": "code",
   "execution_count": null,
   "metadata": {},
   "outputs": [],
   "source": []
  },
  {
   "cell_type": "code",
   "execution_count": null,
   "metadata": {},
   "outputs": [],
   "source": []
  },
  {
   "cell_type": "code",
   "execution_count": null,
   "metadata": {},
   "outputs": [],
   "source": []
  },
  {
   "cell_type": "code",
   "execution_count": null,
   "metadata": {},
   "outputs": [],
   "source": []
  },
  {
   "cell_type": "code",
   "execution_count": null,
   "metadata": {},
   "outputs": [],
   "source": []
  },
  {
   "cell_type": "code",
   "execution_count": null,
   "metadata": {},
   "outputs": [],
   "source": []
  },
  {
   "cell_type": "code",
   "execution_count": null,
   "metadata": {},
   "outputs": [],
   "source": []
  },
  {
   "cell_type": "code",
   "execution_count": null,
   "metadata": {},
   "outputs": [],
   "source": []
  },
  {
   "cell_type": "code",
   "execution_count": null,
   "metadata": {},
   "outputs": [],
   "source": []
  },
  {
   "cell_type": "code",
   "execution_count": null,
   "metadata": {},
   "outputs": [],
   "source": []
  },
  {
   "cell_type": "code",
   "execution_count": null,
   "metadata": {},
   "outputs": [],
   "source": []
  },
  {
   "cell_type": "code",
   "execution_count": null,
   "metadata": {},
   "outputs": [],
   "source": []
  },
  {
   "cell_type": "code",
   "execution_count": null,
   "metadata": {},
   "outputs": [],
   "source": []
  },
  {
   "cell_type": "code",
   "execution_count": null,
   "metadata": {},
   "outputs": [],
   "source": []
  },
  {
   "cell_type": "code",
   "execution_count": null,
   "metadata": {},
   "outputs": [],
   "source": []
  },
  {
   "cell_type": "markdown",
   "metadata": {},
   "source": [
    "## An Application: Propositional Interpolation\n",
    "https://theory.stanford.edu/~nikolaj/programmingz3.html#sec-propositional-interpolation\n"
   ]
  },
  {
   "cell_type": "code",
   "execution_count": null,
   "metadata": {},
   "outputs": [],
   "source": [
    "a1, a2, b1, b2, x1, x2 = Bools('a1 a2 b1 b2 x1 x2')\n",
    "A = And(a1 == x1, a2 != a1, a2 != x2)\n",
    "B = And(b1 == x1, b2 != b1, b2 == x2)\n",
    "s = Solver()\n",
    "\n",
    "s.add(A)\n",
    "s.add(B)\n",
    "\n",
    "s.check()"
   ]
  },
  {
   "cell_type": "code",
   "execution_count": null,
   "metadata": {},
   "outputs": [],
   "source": []
  },
  {
   "cell_type": "code",
   "execution_count": null,
   "metadata": {},
   "outputs": [],
   "source": [
    "def mk_lit(m, x):\n",
    "    if is_true(m.eval(x)):\n",
    "        return x\n",
    "    else:\n",
    "        return Not(x)\n",
    "\n",
    "def pogo(A, B, xs):   \n",
    "    while sat == A.check():\n",
    "        m = A.model()\n",
    "        print(\"Model\", m)\n",
    "        L = [mk_lit(m, x) for x in xs]\n",
    "        print(\"literals\", L)\n",
    "        if unsat == B.check(L):\n",
    "            notL = Not(And(B.unsat_core()))\n",
    "            print(\"notL:\", notL)\n",
    "            yield notL\n",
    "            A.add(notL)\n",
    "        else:\n",
    "            print(\"expecting unsat\")\n",
    "            break\n",
    "\n",
    "A = SolverFor(\"QF_FD\")\n",
    "B = SolverFor(\"QF_FD\")\n",
    "a1, a2, b1, b2, x1, x2 = Bools('a1 a2 b1 b2 x1 x2')\n",
    "A.add(a1 == x1, a2 != a1, a2 != x2)\n",
    "B.add(b1 == x1, b2 != b1, b2 == x2)\n",
    "print(list(pogo(A, B, [x1, x2])))"
   ]
  },
  {
   "cell_type": "markdown",
   "metadata": {},
   "source": [
    "## An Application: Bounded Model Checking\n",
    "https://theory.stanford.edu/~nikolaj/programmingz3.html#sec-bounded-model-checking"
   ]
  },
  {
   "cell_type": "code",
   "execution_count": null,
   "metadata": {},
   "outputs": [],
   "source": [
    "index = 0\n",
    "def fresh(round, s):\n",
    "    global index\n",
    "    index += 1\n",
    "    return Const(\"!f%d_%d\" % (round, index), s)\n",
    "\n",
    "def zipp(xs, ys):\n",
    "    return [p for p in zip(xs, ys)]\n",
    "\n",
    "def bmc(init, trans, goal, fvs, xs, xns):\n",
    "    s = Solver()\n",
    "    s.add(init)\n",
    "    count = 0\n",
    "    while True:\n",
    "        print(\"iteration \", count)\n",
    "        count += 1\n",
    "        p = fresh(count, BoolSort())\n",
    "        s.add(Implies(p, goal))\n",
    "        if sat == s.check(p):\n",
    "            print (s.model())\n",
    "            return\n",
    "        s.add(trans)\n",
    "        ys = [fresh(count, x.sort()) for x in xs]\n",
    "        nfvs = [fresh(count, x.sort()) for x in fvs]\n",
    "        trans = substitute(trans, \n",
    "                           zipp(xns + xs + fvs, ys + xns + nfvs))\n",
    "        goal = substitute(goal, zipp(xs, xns))\n",
    "        xs, xns, fvs = xns, ys, nfvs\n",
    "\n",
    "\n",
    "if __name__ == '__main__':\n",
    "    x0, x1 = Consts('x0 x1', BitVecSort(4))\n",
    "    bmc(x0 == 0, x1 == x0 + 3, x0 == 10 , [], [x0], [x1])"
   ]
  },
  {
   "cell_type": "code",
   "execution_count": null,
   "metadata": {},
   "outputs": [],
   "source": []
  }
 ],
 "metadata": {
  "kernelspec": {
   "display_name": "Python 3 (ipykernel)",
   "language": "python",
   "name": "python3"
  },
  "language_info": {
   "codemirror_mode": {
    "name": "ipython",
    "version": 3
   },
   "file_extension": ".py",
   "mimetype": "text/x-python",
   "name": "python",
   "nbconvert_exporter": "python",
   "pygments_lexer": "ipython3",
   "version": "3.9.13"
  }
 },
 "nbformat": 4,
 "nbformat_minor": 2
}
